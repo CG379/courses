{
 "cells": [
  {
   "cell_type": "markdown",
   "metadata": {},
   "source": [
    "<font size=\"1\"> *This notebook is best viewed in jupyter lab/notebook. You may also choose to use Google Colab but some parts of the images/colouring will not be rendered properly.</font> "
   ]
  },
  {
   "cell_type": "markdown",
   "metadata": {},
   "source": [
    "<div class=\"alert alert-block alert-warning\">\n",
    "\n",
    "# <p style=\"text-align: center;\">Lab 1 (Weeks 1,2): Python Basics - Part 1 Basics Notebook</p>\n",
    "\n",
    "<img src=\"https://upload.wikimedia.org/wikipedia/commons/c/c3/Python-logo-notext.svg\" width=\"200\" height=\"200\" />\n",
    "\n",
    "Welcome to your very first lab of ECE4179. Labs in this unit will run as a help desk and they are not mandatory to attend.   \n",
    "\n",
    "The two notebooks provided contain all the code and comments that you need to submit. Feel free to add in your own markdown for additional comments.\n",
    "\n",
    "Here are the instructions to complete this lab:\n",
    "\n",
    "- The marks of the lab is based on the Moodle '**Lab 1 Quiz**' attempt.\n",
    "- You need to submit both Jupyter Notebooks (.ipynb file) to Moodle submission box '**Lab 1 Submission**'.\n",
    "- We do not directly mark your notebook, but it is required to show your work out for the questions.\n",
    "- If the notebook is not submitted, we consider the lab is not completed and no marks will be given for the quiz questions.\n",
    "- In some sections, we ask for screenshots of your code and plot. Please make sure to add your name and student ID to the title of the plot (which means it will also show in your code).\n",
    "- You can directly copy and paste the screenshots into the text box, and add multiple ones if needed.\n",
    "- We do not require you to complete every single section in the notebook. However, for the parts that we ask for a screenshot of your code and outputs, we require those parts to be completed. And the code completed should be functional, ie, if we asked for a screenshot for part 2.2, and the code is dependent on part 2.1, then both parts in the notebook should be completed.\n",
    "        \n",
    "In this Lab, you will find four tasks distributed across two notebooks: Basics and Applications. The first two tasks test your basic python knowledge and the applcations of numpy and matplotlib libraries. The last two tasks, you will apply the knowledge you gained so far to solve practical problems.\n",
    "- <b>Task 1:</b> Python Basics\n",
    "- <b>Task 2:</b> Data Analysis and Visualization\n",
    "- <b>Task 3:</b> Wanna play Darts?\n",
    "- <b>Task 4:</b> Thinking inside the ball!\n",
    "      \n",
    "Each task will contain code to complete, and a worded question, so ensure you complete both bfeore submitting.\n",
    "\n",
    "Good luck with the Lab! Submit it before the deadline to enjoy full marks."
   ]
  },
  {
   "cell_type": "markdown",
   "metadata": {},
   "source": [
    "<b>Enter you student details below</b>\n",
    "\n",
    "- <b>Student Name:</b> Campbell Gregor\n",
    "- <b>Student ID:</b> 33110018  "
   ]
  },
  {
   "cell_type": "markdown",
   "metadata": {},
   "source": [
    "<div class=\"alert alert-block alert-danger\">\n",
    "\n",
    "## Table of Contents\n",
    "\n",
    "* [Libraries](#Libraries)\n",
    "\n",
    "\n",
    "* [Task 1: Python basics](#python-basics)    \n",
    "    * [1.1 Data types](#data-types) \n",
    "    * [1.2 Conditional statements](#conditional-statements)   \n",
    "    * [1.3 Loops](#loops)    \n",
    "    * [1.4 Functions](#functions)    \n",
    "    * [1.5 Classes](#classes)\n",
    "    \n",
    "    \n",
    "* [Task 2: Data Analysis and Visualization](#data-analysis-and-visualization)  \n",
    "    * [2.1 Numpy](#numpy)\n",
    "    * [2.2 Matplotlib](#matplotlib)"
   ]
  },
  {
   "cell_type": "markdown",
   "metadata": {},
   "source": [
    "<div class=\"alert alert-block alert-warning\">\n",
    "\n",
    "# Libraries\n",
    "\n",
    "Libraries are important as it saves us time from writing our own functions all the time such as graphing, or creating matrices. Brief library descriptions have been added for every library that we import. You may also check the official documentations for more details.\n",
    "\n",
    "We can use the \"import\" function to import libraries, and use _as_ to rename the library within our workspace. For example, we could have used _import numpy_ by itself, and referenced Numpy functions by _numpy.function_, but instead we have an alias of Numpy as _np.function_ instead. "
   ]
  },
  {
   "cell_type": "code",
   "execution_count": 1,
   "metadata": {},
   "outputs": [],
   "source": [
    "## Libraries, you do not need to import any additional libraries for this lab\n",
    "\n",
    "import numpy as np ## Numpy is the fundamental building block of understanding tensor (matrices) within Python\n",
    "import matplotlib.pyplot as plt ## Matplotlib.pyplot is the graphing library that we will be using throughout the semester\n",
    "import random ## Useful for sampling \n",
    "\n",
    "import math # Basic math library\n",
    "\n",
    "import os ## Useful for running command line within python\n",
    "from IPython.display import Image ## For markdown purposes"
   ]
  },
  {
   "cell_type": "markdown",
   "metadata": {},
   "source": [
    "<div class=\"alert alert-block alert-info\">\n",
    "\n",
    "# Task 1 - Python basics <a class=\"anchor\" id=\"python-basics\"></a>\n",
    "    \n",
    "This Task will test your knowledge under five subsections. You will use the knowledge gained from the python tutorial to answer the question. \n",
    "\n",
    "- 1.1 Data types\n",
    "- 1.2 Conditional statements\n",
    "- 1.3 Loops \n",
    "- 1.4 Functions\n",
    "- 1.5 Classes"
   ]
  },
  {
   "cell_type": "markdown",
   "metadata": {},
   "source": [
    "<div class=\"alert alert-block alert-info\">\n",
    "    \n",
    "## Learning Objective \n",
    "    \n",
    "This task on Python basics aims to familiarize you with fundamental concepts and features of the Python programming language. By the end of this section, you should be able to understand and utilize data types, write conditional statements to make decisions in their code, implement loops for repetitive tasks, define and use functions for code reusability, and grasp the basics of object-oriented programming by creating and utilizing classes. This foundational knowledge will provide a solid understanding of Python's core concepts, enabling you to build more complex programs and tackle real-world programming challenges effectively."
   ]
  },
  {
   "cell_type": "markdown",
   "metadata": {},
   "source": [
    "<div class=\"alert alert-block alert-info\">\n",
    "\n",
    "## 1.1  Data types <a class=\"anchor\" id=\"data-types\"></a>\n",
    "\n",
    "Python supports various data types such providing flexibility and versatility for data manipulation and analysis."
   ]
  },
  {
   "cell_type": "markdown",
   "metadata": {},
   "source": [
    "#### Before beginning, it is always good to know the basics of Python. Python have data types such as :"
   ]
  },
  {
   "cell_type": "markdown",
   "metadata": {},
   "source": [
    "1. number\n",
    "2. string\n",
    "3. list\n",
    "4. dictionary\n",
    "5. tuple"
   ]
  },
  {
   "cell_type": "markdown",
   "metadata": {},
   "source": [
    "#### (a) Create two lists named list_a and list_b with the values given in the Question 1 in the lab 1 quiz."
   ]
  },
  {
   "cell_type": "code",
   "execution_count": 31,
   "metadata": {},
   "outputs": [],
   "source": [
    "list_a = [3, 6, 9, 12, 15, 18, 21, 24, 27, 30] ##  list_a\n",
    "list_b = ['1 2 3', 4, 5, 9] ##  list_b"
   ]
  },
  {
   "cell_type": "markdown",
   "metadata": {},
   "source": [
    "Do the following:\n",
    "- Append list_b to the end of the list_a\n",
    "- Extend new version of list_a with list_b.\n",
    "- Print the length of final version of list_a.\n",
    "\n",
    "You will find that the append method is useful in later labs as it allows you to append results at computation time."
   ]
  },
  {
   "cell_type": "code",
   "execution_count": 32,
   "metadata": {},
   "outputs": [
    {
     "name": "stdout",
     "output_type": "stream",
     "text": [
      "Length of list is 15\n",
      "[3, 6, 9, 12, 15, 18, 21, 24, 27, 30, ['1 2 3', 4, 5, 9], '1 2 3', 4, 5, 9]\n"
     ]
    }
   ],
   "source": [
    "list_a.append(list_b) ## Append list_b to your list_a\n",
    "list_a.extend(list_b) ## then extend the result with list_b\n",
    "print(f\"Length of list is {len(list_a)}\")\n",
    "print(list_a)"
   ]
  },
  {
   "cell_type": "markdown",
   "metadata": {},
   "source": [
    "#### (b) Create a dictionary with the following mappings.\n",
    "- 'Unit' : 4179\n",
    "- 'Session': 'Lab 1'\n",
    "- 'Date': 'July 20, 2023'\n",
    "- 'Pass' : 50,\n",
    "- 'Students': ['Jim', 'Gary', 'Hon']\n",
    "- 'Achieved' : [60, 40, 30]\n",
    "\n",
    "'Achieved' and 'Students' are two keys in the dictionary that show the list of students and the score they achived in Lab 1.\n",
    "\n",
    "Please do the following:\n",
    "- Add your name to the value list of the 'Students'\n",
    "- Append a score of 100 in the value 'Achieved' key.\n",
    "- Add a new key to the dictionary named 'Required' which shows how many more scores each student need to earn in order to pass Lab 1.\n",
    "- Obtain all the keys using .keys() method and print it out as a list.\n",
    "- Obtain all the values using .values() method and print it out as a list.\n",
    "\n",
    "Dictionaries are a good way to store information with a key that is easily accessible. This can become useful when you want to store learnt parameters of a model, and the hyper parameters used to train a model."
   ]
  },
  {
   "cell_type": "code",
   "execution_count": 54,
   "metadata": {},
   "outputs": [
    {
     "name": "stdout",
     "output_type": "stream",
     "text": [
      "dict_keys(['Unit', 'Session', 'Date', 'Pass', 'Students', 'Achived', 'Required'])\n",
      "dict_values([4179, 'Lab 1', 'July 20, 2023', 50, ['Jim', 'Gary', 'Hon', 'Campbell'], [60, 40, 30, 100], [0, 10, 20, 0]])\n"
     ]
    }
   ],
   "source": [
    "my_dict = {'Unit': 4179,\n",
    "           'Session': 'Lab 1',\n",
    "           'Date': 'July 20, 2023',\n",
    "           'Pass': 50,\n",
    "           'Students': ['Jim','Gary','Hon'],\n",
    "           'Achived': [60,40,30]\n",
    "           }\n",
    "\n",
    "# Add your name to 'Students' key\n",
    "my_dict['Students'].append('Campbell')\n",
    "\n",
    "# Add your score of 100 to 'Achieved' key\n",
    "my_dict['Achived'].append(100)\n",
    "\n",
    "#Add 'Required' key\n",
    "# Add a new key to dictionary called 'Required' calculating how many points\n",
    "#each students need to pass the lab \n",
    "my_dict['Required'] = [0 if achieved >= my_dict['Pass'] else my_dict['Pass'] - achieved for achieved in my_dict['Achived']]\n",
    "#print(my_dict)\n",
    "\n",
    "print(my_dict.keys())\n",
    "print(my_dict.values())"
   ]
  },
  {
   "cell_type": "markdown",
   "metadata": {},
   "source": [
    "<div class=\"alert alert-block alert-info\">\n",
    "\n",
    "## 1.2 Conditional statements <a class=\"anchor\" id=\"conditional-statements\"></a>\n",
    "\n",
    "Conditional statements in Python allow for the execution of different code blocks based on specified conditions, enabling the creation of decision-making logic within a program. \n",
    "    \n",
    "In Python, you need to use identation to specify the scope of conditional statements. It is highly recommended you use _tab_ for identation, rather than spaces, as it will format your code much nicer and become more readable. This would also give you less change to make mistakes."
   ]
  },
  {
   "cell_type": "markdown",
   "metadata": {},
   "source": [
    "#### (a) Code an IF statement to check how many elements from the prime_list divide the number"
   ]
  },
  {
   "cell_type": "code",
   "execution_count": 59,
   "metadata": {},
   "outputs": [
    {
     "name": "stdout",
     "output_type": "stream",
     "text": [
      "Not Prime, 2 divides 10234\n",
      "Not Prime, 7 divides 10234\n",
      "Not Prime, 17 divides 10234\n",
      "3\n"
     ]
    }
   ],
   "source": [
    "\n",
    "number = 10234 # Initialise number\n",
    "prime_list1 = [2, 3, 5, 7, 11, 13, 17, 19, 23] # Initialise the prime_list\n",
    "count = 0\n",
    "for num in prime_list1:\n",
    "    if number % num == 0:\n",
    "        print(f\"Not Prime, {num} divides {number}\")\n",
    "        count += 1\n",
    "print(count)"
   ]
  },
  {
   "cell_type": "markdown",
   "metadata": {},
   "source": [
    "#### (b) Fill out the missing parts in the code to get “True” after each IF statement.\n",
    "You may find the function _type_ to be useful. Remember, checking data types is useful in helping you debug for niche cases (such as applying operations on mismatching data types ). See here for documentation about _type_:\n",
    "\n",
    "https://www.programiz.com/python-programming/methods/built-in/type"
   ]
  },
  {
   "cell_type": "code",
   "execution_count": 61,
   "metadata": {},
   "outputs": [
    {
     "name": "stdout",
     "output_type": "stream",
     "text": [
      "True True True\n"
     ]
    }
   ],
   "source": [
    "b_1 = '1 2'\n",
    "b_2 = 2.3\n",
    "b_3 = {1: 2}\n",
    "\n",
    "print(type(b_1) == str, type(b_2) == float, type(b_3) == dict )\n",
    "# Check if all statements are True"
   ]
  },
  {
   "cell_type": "markdown",
   "metadata": {},
   "source": [
    "#### (c)  Write an IF statement to check whether a year is a leap year.\n",
    "\n",
    "Use '2' plus the last three digits of your student ID as the year.\n",
    "\n",
    "For example, if your ID is 12563487, then the year to use is: 2487\n",
    "\n",
    "__Note: If the year is divisible by 4 and not divisible by 100, or if it is divisible by 400, then it is a leap year__"
   ]
  },
  {
   "cell_type": "code",
   "execution_count": 62,
   "metadata": {},
   "outputs": [
    {
     "name": "stdout",
     "output_type": "stream",
     "text": [
      "The year 2018 is not a leap year\n"
     ]
    }
   ],
   "source": [
    "# ID = 33110018\n",
    "year = 2018\n",
    "\n",
    "if year % 400 == 0:\n",
    "\n",
    "    print(f\"The year {year} is a leap year\")\n",
    "elif year % 4 == 0 and year % 100 != 100:\n",
    "    \n",
    "    print(f\"The year {year} is a leap year\") \n",
    "else:\n",
    "    \n",
    "    print(f\"The year {year} is not a leap year\") "
   ]
  },
  {
   "cell_type": "markdown",
   "metadata": {},
   "source": [
    "<div class=\"alert alert-block alert-info\">\n",
    "\n",
    "## 1.3 Loops <a class=\"anchor\" id=\"loops\"></a>\n",
    "\n",
    "Python loops allow for the repetition of a block of code multiple times, making it efficient and convenient to perform iterative tasks or iterate over collections of data. Remember, indexing starts from 0! \n",
    "    \n",
    "In Python, you need to use identation to specify the scope of loops. It is highly recommended you use _tab_ for identation, rather than spaces, as it will format your code much nicer and become more readable, and give you less chance to make indentation mistakes."
   ]
  },
  {
   "cell_type": "markdown",
   "metadata": {},
   "source": [
    "#### (a) Print out the numbers from n_1 to n_2 (inclusive) using a for loop.\n",
    "\n",
    "You may find the _range_ function helpful. \n",
    "\n",
    "https://www.programiz.com/python-programming/methods/built-in/range"
   ]
  },
  {
   "cell_type": "code",
   "execution_count": 63,
   "metadata": {},
   "outputs": [
    {
     "name": "stdout",
     "output_type": "stream",
     "text": [
      "1\n",
      "2\n",
      "3\n",
      "4\n",
      "5\n",
      "6\n",
      "7\n",
      "8\n",
      "9\n",
      "10\n"
     ]
    }
   ],
   "source": [
    "n_1 = 1  #Initialize n_1\n",
    "n_2 = 10 #Initialize n_2\n",
    "for num in range(n_1,n_2 + 1): ## Print out the numbers from n_1 to n_2 (inclusive)\n",
    "    print(num)"
   ]
  },
  {
   "cell_type": "markdown",
   "metadata": {},
   "source": [
    "#### (b) For the numbers between b_1 and b_2 (not inclusive) given in the quiz question, print out how many numbers that are divisible by b_3.\n",
    "\n",
    "Remember, you need identations for each loop and each conditional statement"
   ]
  },
  {
   "cell_type": "code",
   "execution_count": 65,
   "metadata": {},
   "outputs": [
    {
     "name": "stdout",
     "output_type": "stream",
     "text": [
      "94\n"
     ]
    }
   ],
   "source": [
    "b_1 = 32 \n",
    "b_2 = 690\n",
    "b_3 = 7\n",
    "count = 0\n",
    "for i in range(b_1,b_2): # for loop\n",
    "    if i % b_3 == 0:\n",
    "        count += 1\n",
    "print(count)"
   ]
  },
  {
   "cell_type": "markdown",
   "metadata": {},
   "source": [
    "#### (c) For your student ID, keep dividing by 4 until it is a value lower than 10. Print out the final value.\n",
    "\n",
    "_Hint: Use a while loop here_"
   ]
  },
  {
   "cell_type": "code",
   "execution_count": 72,
   "metadata": {},
   "outputs": [
    {
     "name": "stdout",
     "output_type": "stream",
     "text": [
      "7.894043445587158\n"
     ]
    }
   ],
   "source": [
    "student_number = 33110018\n",
    "\n",
    "## Complete the task specified above\n",
    "while True:\n",
    "    student_number = student_number / 4\n",
    "    if student_number < 10:\n",
    "        break\n",
    "\n",
    "print(student_number)"
   ]
  },
  {
   "cell_type": "markdown",
   "metadata": {},
   "source": [
    "<div class=\"alert alert-block alert-info\">\n",
    "\n",
    "## 1.4 Functions <a class=\"anchor\" id=\"functions\"></a>\n",
    "    \n",
    "Python functions provide a way to encapsulate reusable blocks of code, allowing for modular and organized programming, and facilitating code reuse and readability. Always lay out the function with comments and useful variable names."
   ]
  },
  {
   "cell_type": "markdown",
   "metadata": {},
   "source": [
    "#### (a) Write a function that find the hypotenuse of a right triangle (Hint: use the Pythagorean theorem).\n",
    "\n",
    "Please use the values provided in the quiz question."
   ]
  },
  {
   "cell_type": "code",
   "execution_count": 77,
   "metadata": {},
   "outputs": [
    {
     "name": "stdout",
     "output_type": "stream",
     "text": [
      "48.81\n"
     ]
    }
   ],
   "source": [
    "def compute_hypotenuse(side_1, side_2):\n",
    "    \n",
    "    # Inputs:\n",
    "    # side1 - the input argument for one side of the triangle\n",
    "    # side2 - the input argument for another side of the triangle\n",
    "    \n",
    "    # Outputs:\n",
    "    # hypotenuse - the calculated output from side1 and side2\n",
    "    \n",
    "    hypotenuse = round(math.sqrt(side_1**2 + side_2**2), 2)\n",
    "    \n",
    "    return hypotenuse\n",
    "\n",
    "side_1 = 4.25\n",
    "side_2 = 48.62\n",
    "out = compute_hypotenuse(side_1,side_2)\n",
    "print(out)"
   ]
  },
  {
   "cell_type": "markdown",
   "metadata": {},
   "source": [
    "#### (b) Write a function that computes the factorial of a given number. \n",
    "E.g. factorial_fn(5) → output: 120\n",
    "\n",
    "Please use the last two digits of your student ID as inputs."
   ]
  },
  {
   "cell_type": "code",
   "execution_count": 79,
   "metadata": {},
   "outputs": [
    {
     "name": "stdout",
     "output_type": "stream",
     "text": [
      "6402373705728000\n"
     ]
    }
   ],
   "source": [
    "def factorial_fn(number): \n",
    "    \n",
    "    # Input argument(s):\n",
    "    # number - the factorial we are trying to find\n",
    "    \n",
    "    # Output:\n",
    "    # result - the factorial result of the number\n",
    "    \n",
    "    result = 1# Initialize result to 1\n",
    "    while(number > 0):\n",
    "        result *= number\n",
    "        number -= 1\n",
    "    return result # return result here\n",
    "\n",
    "\n",
    "number = 18\n",
    "print(factorial_fn(number))"
   ]
  },
  {
   "cell_type": "markdown",
   "metadata": {},
   "source": [
    "<div class=\"alert alert-block alert-info\">\n",
    "\n",
    "## 1.5 Classes <a class=\"anchor\" id=\"classes\"></a>\n",
    "    \n",
    "Python classes are a fundamental component of object-oriented programming in Python, allowing developers to define blueprints for creating objects with their own attributes and behaviors."
   ]
  },
  {
   "cell_type": "markdown",
   "metadata": {},
   "source": [
    "##### Please complete the following:\n",
    "1. Write a Python class **Student** with attributes student_id, student_name, and lab_day, lab1_marks.\n",
    "2. In the same class, add method 'assign_lab_day' to change the allocated lab day of the student to given weekday.\n",
    "3. In the same class, add method 'print_student_details' to print the details (related attributes) of a student.\n",
    "4. In the same class, add method 'calculate_lab1_marks' that takes two arguments:\n",
    "   1. No. of questions correctly answered\n",
    "   1. Marks allocated per question\n",
    "5. Computes the lab1 marks by using the below formula:\n",
    "\n",
    "lab1 marks = (No. of questions correctly answered) $\\times$ (Marks allocated per question)"
   ]
  },
  {
   "cell_type": "code",
   "execution_count": 92,
   "metadata": {},
   "outputs": [],
   "source": [
    "class Student:\n",
    "    def __init__(self, name, id, day, score):\n",
    "        # Save the object's attributes\n",
    "        self.name = name\n",
    "        self.id = id\n",
    "        self.day = day\n",
    "        self.marks = score\n",
    "        \n",
    "    def assign_lab_day(self, stud_lab_day):\n",
    "        # Reassign the lab day\n",
    "        self.day = stud_lab_day\n",
    "        \n",
    "    def print_student_details(self):\n",
    "        ## Method for printing all the student details, format it nicely\n",
    "        print(\"----------------------\")\n",
    "        print(\"Name:\\t\" + self.name)\n",
    "        print(f\"ID:\\t{self.id}\")\n",
    "        print(\"Day:\\t\" + self.day)\n",
    "        print(f\"Mark:\\t{self.marks}\")\n",
    "        print(\"----------------------\")\n",
    "        \n",
    "    def calculate_lab1_marks(self, num_questions, marks_per_ques):\n",
    "        # Recalculation of lab 1 marks\n",
    "        self.marks = num_questions * marks_per_ques"
   ]
  },
  {
   "cell_type": "markdown",
   "metadata": {},
   "source": [
    "##### Now create an instance of this class using following data.\n",
    "- Name: your first name\n",
    "- Student ID:  your student  ID\n",
    "- Lab day:  allocated day of the week \n",
    "- Lab 1 marks: your expected score for this lab (out of 100)\n",
    "\n",
    "Then print the details of the students using the ```print_student_details()``` method.\n"
   ]
  },
  {
   "cell_type": "code",
   "execution_count": 95,
   "metadata": {},
   "outputs": [
    {
     "name": "stdout",
     "output_type": "stream",
     "text": [
      "----------------------\n",
      "Name:\tCampbell\n",
      "ID:\t33110018\n",
      "Day:\tTuesday\n",
      "Mark:\t100\n",
      "----------------------\n"
     ]
    }
   ],
   "source": [
    "student = Student(\"Campbell\", 33110018, \"Tuesday\", 100)\n",
    "student.print_student_details() # Call the print method"
   ]
  },
  {
   "cell_type": "markdown",
   "metadata": {},
   "source": [
    "Now switch the lab day using assign_lab_day method to \"Monday\". The student had answered 3 questions correctly and each question carries 25 marks, ammend the lab1 marks of the student using the calculate_lab1_marks method and reprint the students details."
   ]
  },
  {
   "cell_type": "code",
   "execution_count": 94,
   "metadata": {},
   "outputs": [
    {
     "name": "stdout",
     "output_type": "stream",
     "text": [
      "----------------------\n",
      "Name:\tCampbell\n",
      "ID:\t33110018\n",
      "Day:\tMonday\n",
      "Mark:\t75\n",
      "----------------------\n"
     ]
    }
   ],
   "source": [
    "student.assign_lab_day(\"Monday\")  ## Reassign lab\n",
    "student.calculate_lab1_marks(3,25)  ## Calculate marks based off what they achieved\n",
    "student.print_student_details()"
   ]
  },
  {
   "cell_type": "markdown",
   "metadata": {},
   "source": [
    "<div class=\"alert alert-block alert-info\">\n",
    "\n",
    "# Task 2 - Data Analysis and Visualization <a class=\"anchor\" id=\"data-analysis-and-visualization\"></a>\n",
    "\n",
    "Deep learning thrives on the synergy of data analysis and visualization, empowering us to unveil intricate patterns, extract meaningful features, and gain profound insights from complex datasets. This task will test your knowledge of two main python libraries that we often use for data analysis and visualization.\n",
    "\n",
    "- 2.1 Numpy\n",
    "- 2.2 Matplotlib"
   ]
  },
  {
   "cell_type": "markdown",
   "metadata": {},
   "source": [
    "<div class=\"alert alert-block alert-info\">\n",
    "    \n",
    "## Learning Objective \n",
    "\n",
    "This Data Analysis and Visualization section aims to provide you with the necessary skills to analyze and visualize data using two essential Python libraries: Numpy and Matplotlib. By the end of this task, you will be proficient in performing numerical computations with Numpy, processing datasets, and employing Matplotlib to create a variety of static and interactive visualizations. The acquired knowledge will empower you to uncover patterns, extract insights, and effectively communicate findings from complex datasets, confidently making informed decisions and addressing real-world data analysis challenges."
   ]
  },
  {
   "cell_type": "markdown",
   "metadata": {},
   "source": [
    "<div class=\"alert alert-block alert-info\">\n",
    "\n",
    "## 2.1 Numpy <a class=\"anchor\" id=\"numpy\"></a>\n",
    "\n",
    "<img src=\"https://seeklogo.com/images/N/numpy-logo-479C24EC79-seeklogo.com.png\" width=\"75\" height=\"75\" /> \n",
    "    \n",
    "NumPy is a powerful Python library that stands for Numerical Python. It provides efficient numerical operations on large arrays and matrices of data, along with a vast collection of mathematical functions. With NumPy, users can perform array manipulation, mathematical computations, linear algebra operations, random number generation, and much more, making it a fundamental tool for scientific computing and data analysis in Python. In this task, we will be performing manipulations on numpy arrays and understanding how they interact with one another."
   ]
  },
  {
   "cell_type": "markdown",
   "metadata": {},
   "source": [
    "#### (a) Initialize python list, then convert it to a numpy array and print it out.\n",
    "\n",
    "You may find the following numpy function useful:\n",
    "- _array_\n",
    "\n",
    "Numpy documentation can be found here: https://numpy.org/doc/"
   ]
  },
  {
   "cell_type": "code",
   "execution_count": 27,
   "metadata": {},
   "outputs": [
    {
     "name": "stdout",
     "output_type": "stream",
     "text": [
      "[90.    2.    3.14 13.  ]\n"
     ]
    }
   ],
   "source": [
    "my_list = [7, 9, 90, 2, 3.14, 13.0, 0.005, 5.2] ## my_list\n",
    "x = np.array(my_list)[2:6] ## Select proper index range of the array\n",
    "print(x)"
   ]
  },
  {
   "cell_type": "markdown",
   "metadata": {},
   "source": [
    "#### (b) create and identity matrix, zero matrix, and a ones matrix of required size. Add them all together and print the final result.\n",
    "\n",
    "You may find the following numpy functions useful:\n",
    "\n",
    "- _eye_\n",
    "- _zeros_\n",
    "- _ones_"
   ]
  },
  {
   "cell_type": "code",
   "execution_count": 28,
   "metadata": {},
   "outputs": [
    {
     "name": "stdout",
     "output_type": "stream",
     "text": [
      "[[ 0. -1. -1. -1.]\n",
      " [-1.  0. -1. -1.]\n",
      " [-1. -1.  0. -1.]]\n"
     ]
    }
   ],
   "source": [
    "identity = np.eye(3,4)\n",
    "zeros = np.zeros((3,4))\n",
    "ones = np.ones((3,4))\n",
    "\n",
    "result = identity + zeros - ones  ## Final result\n",
    "print(result)"
   ]
  },
  {
   "cell_type": "markdown",
   "metadata": {},
   "source": [
    "#### (c) Create a numpy array with values ranging from c_1 to c_2  then reshape it create following matrix.\n",
    "\n",
    "You may find the following numpy functions useful:\n",
    "- _arange_\n",
    "- _reshape_\n",
    "\n",
    "Now, you might be thinking what is the purpose of reshape? Later on in the semester, this will become a useful tool in being able to reshape our data so it fits the neural network. For example, when we pass in a 2D image, and want to perform some classification at the end, we need to be able to __reshape__ the tensor so it becomes 1-dimensional to get the class probabilities ! "
   ]
  },
  {
   "cell_type": "code",
   "execution_count": 29,
   "metadata": {},
   "outputs": [
    {
     "name": "stdout",
     "output_type": "stream",
     "text": [
      "[[ 1  2  3  4  5  6]\n",
      " [ 7  8  9 10 11 12]\n",
      " [13 14 15 16 17 18]\n",
      " [19 20 21 22 23 24]\n",
      " [25 26 27 28 29 30]]\n"
     ]
    }
   ],
   "source": [
    "c_1 = 1\n",
    "c_2 = 30\n",
    "x = np.arange(c_1,c_2+1) ## Create the initial numpy array\n",
    "y = x.reshape((5,6)) ## Reshape the array\n",
    "print(y)\n"
   ]
  },
  {
   "cell_type": "markdown",
   "metadata": {},
   "source": [
    "#### (d) The marks of students are in the given list. Create the grade vector of the students\n",
    "- If mark $>$ 50 → grade \"A\"\n",
    "- If mark $\\leq $ 50 → grade \"B\"\n",
    "\n",
    "The function you'll use would be useful when you want to search for particular conditions within a numpy_array, perhaps using it as a threshold in classification"
   ]
  },
  {
   "cell_type": "code",
   "execution_count": 30,
   "metadata": {},
   "outputs": [
    {
     "name": "stdout",
     "output_type": "stream",
     "text": [
      "['A' 'B' 'B' 'A' 'B' 'A' 'A']\n"
     ]
    }
   ],
   "source": [
    "marks_list = [71, 28, 36, 89, 12, 69, 91]\n",
    "marks = np.array(marks_list) ## Numpy array created from the list\n",
    "status = np.where(marks>50, 'A', 'B') ## Using the numpy function to classify the grades\n",
    "print(status)"
   ]
  },
  {
   "cell_type": "markdown",
   "metadata": {},
   "source": [
    "#### (e) Create a 6x6 matrix and fill it with a checkerboard pattern.\n",
    "Note that explicitly writing the elements of the matrix is not allowed, instead you need to use numpy functions in a smart way to create this matrix. Your output should look like below.      \n",
    "Note: you may want to use a unique variable name to store this matrix since you will need to reuse it in Section 2.2(e).\n",
    "\n",
    "[[0 1 0 1 0 1]                                                      \n",
    " [1 0 1 0 1 0]                                                      \n",
    " [0 1 0 1 0 1]                                                      \n",
    " [1 0 1 0 1 0]                                                      \n",
    " [0 1 0 1 0 1]                                                      \n",
    " [1 0 1 0 1 0]]"
   ]
  },
  {
   "cell_type": "code",
   "execution_count": 31,
   "metadata": {},
   "outputs": [
    {
     "name": "stdout",
     "output_type": "stream",
     "text": [
      "[[1 0 1 0 1 0]\n",
      " [0 1 0 1 0 1]\n",
      " [1 0 1 0 1 0]\n",
      " [0 1 0 1 0 1]\n",
      " [1 0 1 0 1 0]\n",
      " [0 1 0 1 0 1]]\n",
      "[[0 1 0 1 0 1]\n",
      " [1 0 1 0 1 0]\n",
      " [0 1 0 1 0 1]\n",
      " [1 0 1 0 1 0]\n",
      " [0 1 0 1 0 1]\n",
      " [1 0 1 0 1 0]]\n"
     ]
    }
   ],
   "source": [
    "row = np.array([0,1] * 3)\n",
    "col = np.array([1,0] * 3)\n",
    "checkerboard = (row + col.reshape(6,1)) % 2\n",
    "print(checkerboard)\n",
    "\n",
    "checkerboard = np.array([[(i+j) % 2 for j in range(6)] for i in range(6)])\n",
    "print(checkerboard)\n"
   ]
  },
  {
   "cell_type": "markdown",
   "metadata": {},
   "source": [
    "<div class=\"alert alert-block alert-success\">\n",
    "\n",
    "### (f) Reflection\n",
    "\n",
    "#### Look at the following code examples and comment on what is happening in the following cases\n"
   ]
  },
  {
   "cell_type": "code",
   "execution_count": 32,
   "metadata": {},
   "outputs": [
    {
     "name": "stdout",
     "output_type": "stream",
     "text": [
      "\n",
      "X: \n",
      "[[1. 0.]\n",
      " [0. 1.]]\n",
      "\n",
      "Y: \n",
      "[[2 5]\n",
      " [1 3]]\n",
      "\n",
      "case (a) \n",
      "[[3. 5.]\n",
      " [1. 4.]]\n",
      "\n",
      "case (b): \n",
      "[[3. 5.]\n",
      " [1. 4.]]\n",
      "\n",
      "case (c): \n",
      "[[2. 5.]\n",
      " [1. 3.]]\n",
      "\n",
      "case (d): \n",
      "[[2. 0.]\n",
      " [0. 3.]]\n",
      "\n",
      "case (e): \n",
      "[[ 4 25]\n",
      " [ 1  9]]\n",
      "\n",
      "case (f): \n",
      "[[ 9 25]\n",
      " [ 5 14]]\n"
     ]
    }
   ],
   "source": [
    "X = np.eye(2)\n",
    "Y = np.array([[2, 5], [1, 3]])\n",
    "\n",
    "print(f\"\\nX: \\n{X}\")\n",
    "print(f\"\\nY: \\n{Y}\")\n",
    "\n",
    "## case (i) element wise addition \n",
    "addXY = np.add(X, Y)\n",
    "print(f\"\\ncase (a) \\n{addXY}\")\n",
    "## case (ii) also element wise addition \n",
    "addXY2 = X + Y\n",
    "print(f\"\\ncase (b): \\n{addXY2}\")\n",
    "## case (iii) matrix multiplication \n",
    "multXY = np.matmul(X, Y)\n",
    "print(f\"\\ncase (c): \\n{multXY}\")\n",
    "## case (iv) element wise multiplication\n",
    "multXY2 = X * Y\n",
    "print(f\"\\ncase (d): \\n{multXY2}\")\n",
    "## case (v) Element wise multiplication\n",
    "powY = Y**2\n",
    "print(f\"\\ncase (e): \\n{powY}\")\n",
    "## case (vi) matrix multiplication YY\n",
    "powY2 = np.matmul(Y, Y)\n",
    "print(f\"\\ncase (f): \\n{powY2}\")"
   ]
  },
  {
   "cell_type": "markdown",
   "metadata": {},
   "source": [
    "<div class=\"alert alert-block alert-info\">\n",
    "\n",
    "## 2.2 Matplotlib <a class=\"anchor\" id=\"matplotlib\"></a>\n",
    "\n",
    "<img src=\"https://seeklogo.com/images/M/matplotlib-logo-AEB3DC9BB4-seeklogo.com.png\" height=\"50\" />\n",
    "\n",
    "\n",
    "Matplotlib is a popular Python library used for creating visualizations and plots. It provides a wide range of plotting functions and options, allowing users to create line plots, scatter plots, bar plots, histograms, and many other types of charts. Matplotlib provides a flexible and customizable interface, enabling users to fine-tune their plots with various styling options, labels, titles, and annotations. With its intuitive API and extensive documentation, Matplotlib is widely used in data exploration, scientific research, and data visualization tasks in Python."
   ]
  },
  {
   "cell_type": "markdown",
   "metadata": {},
   "source": [
    "#### (a) Let's plot a heart together\n",
    "- Create a numpy array for t to be from 0 to $2\\pi$ radian\n",
    "- Define the x coordinates to be: $16 (sin(t))^3$\n",
    "- Define the y coordinates to be: $13 cos(t) - 5 cos(2t) - 2 cos(3t) - cos(4t)$\n",
    "- Use plt.plot for plotting, choose a colour for the plot line\n",
    "- Create a title for the plot, and add your name and student ID to the title\n",
    "- Make sure you add your x and y labels\n",
    "- Limit the x and y axis range to -20 and 20\n",
    "- You can play around with the colour and marker types"
   ]
  },
  {
   "cell_type": "code",
   "execution_count": 133,
   "metadata": {},
   "outputs": [
    {
     "data": {
      "image/png": "[encoded data removed]",
      "text/plain": [
       "<Figure size 800x800 with 1 Axes>"
      ]
     },
     "metadata": {},
     "output_type": "display_data"
    }
   ],
   "source": [
    "import numpy as np\n",
    "import matplotlib.pyplot as plt\n",
    "\n",
    "# Define the range of t\n",
    "t = np.linspace(0, 2 * np.pi,100)\n",
    "\n",
    "# Parametric equations for a heart shape\n",
    "x = 16 * (np.sin(t))**3\n",
    "y = 13 * np.cos(t) - 5 * np.cos(2 * t) - 2 * np.cos(3 * t) - np.cos(4 * t)\n",
    "\n",
    "# Plot the heart shape\n",
    "plt.figure(figsize=(8, 8))\n",
    "plt.plot(x,y)   #plot the x and y values\n",
    "plt.title('Heart Shape Curve: Campbell 33110018')\n",
    "plt.xlabel('x')\n",
    "plt.ylabel('y')\n",
    "plt.xlim(-20,20) #limit the x axis\n",
    "plt.ylim(-20,20) #limit the y axis\n",
    "plt.grid(True)\n",
    "plt.axhline(0, color='blue',linewidth=0.5)\n",
    "plt.axvline(0, color='red',linewidth=0.5)\n",
    "plt.gca().set_aspect('equal', adjustable='box')\n",
    "plt.show() #show the plot"
   ]
  },
  {
   "cell_type": "markdown",
   "metadata": {},
   "source": [
    "#### (b) Plot a noisy Parabola using a scatter plot by following the below instructions\n",
    "- Create some empty lists to store x and y-axis values\n",
    "- In a for-loop create the x and y values\n",
    "- Compute x^2 and then add a random number from 0-1. The range of x values will be from [-2.5, 2.5]\n",
    "- Plot y with respect to x \n",
    "- Find the minimum of the y values and find the corresponding x value. Then annotate that point as \"minimum\" using plt.annotate (Use different color for clarity)\n",
    "- Make sure you add your x and y labels\n",
    "- Create a title for the plot, and add your name and student ID to the title\n",
    "- Play around with the colour and marker types"
   ]
  },
  {
   "cell_type": "code",
   "execution_count": 3,
   "metadata": {},
   "outputs": [
    {
     "data": {
      "image/png": "[encoded data removed]",
      "text/plain": [
       "<Figure size 640x480 with 1 Axes>"
      ]
     },
     "metadata": {},
     "output_type": "display_data"
    }
   ],
   "source": [
    "import math\n",
    "import random\n",
    "x_parab_values = []\n",
    "y_parab_values = []\n",
    "\n",
    "for i in range(-50, 50): ## Using for loop\n",
    "    x_parab_values.append(i/20) ## Generate x values\n",
    "    y_parab_values.append(math.pow(i/20,2) + random.random()) ## Generate the y-values based on the conditions specified\n",
    "\n",
    "plt.scatter(x_parab_values, y_parab_values, c = \"k\", marker = \"*\") ## Add in plot, make sure you properly label it\n",
    "\n",
    "a = np.min(y_parab_values)\n",
    "b = x_parab_values[np.argmin(y_parab_values)]\n",
    "plt.annotate(\"minimum\", xy=(b,a), color='r')\n",
    "\n",
    "# Y-label, X-label, title\n",
    "# In other cases, you may want to add in a legend, grid axis etc.\n",
    "plt.ylabel('Y')\n",
    "plt.xlabel('X')\n",
    "plt.title(\"Noisy Parabola\")\n",
    "plt.show()"
   ]
  },
  {
   "cell_type": "markdown",
   "metadata": {},
   "source": [
    "#### (c) Plot the audio waveform of a bird chirping using a line plot by following the below instructions\n",
    "- Load the data in file \"birdy.npy\". It will load a numpy array of size (13129,2) in which the first column is the time indices and the second column is the amplitude values\n",
    "- Use plt.plot for plotting\n",
    "- x-axis should be the time index\n",
    "- y-axis should be the Amplitude\n",
    "- Make sure you add your x and y labels\n",
    "- Create a title for the plot, and add your name and student ID to the title"
   ]
  },
  {
   "cell_type": "code",
   "execution_count": 13,
   "metadata": {},
   "outputs": [
    {
     "data": {
      "text/plain": [
       "Text(0.5, 1.0, 'Bird chirp waveform: Campbell Gregor 33110018')"
      ]
     },
     "execution_count": 13,
     "metadata": {},
     "output_type": "execute_result"
    },
    {
     "data": {
      "image/png": "[encoded data removed]",
      "text/plain": [
       "<Figure size 640x480 with 1 Axes>"
      ]
     },
     "metadata": {},
     "output_type": "display_data"
    }
   ],
   "source": [
    "bird_chirp = np.load(\"birdy.npy\") ## load data\n",
    "t, Amp = bird_chirp[:][0],bird_chirp[:][1]  ## extract time indices and amplitude values\n",
    "\n",
    "plt.plot(t,Amp) ## Add in plot, make sure you properly label it\n",
    "\n",
    "# Y-label, X-label, title\n",
    "\n",
    "plt.xlabel(\"time index\")\n",
    "plt.ylabel(\"Amplitude\")\n",
    "plt.title(\"Bird chirp waveform: Campbell Gregor 33110018\")\n"
   ]
  },
  {
   "cell_type": "markdown",
   "metadata": {},
   "source": [
    "#### (d) Plot a distribution using a bar plot by following the below instructions\n",
    "- Use np.linspace to create 100 linearly spaced values for your x-axis from $\\left[-d, +d\\right]$\n",
    "- Calculate the PDF values using the normal distribution formula with mean $\\mu$ and variance $\\sigma$\n",
    "- Use plt.bar for plotting\n",
    "- You may want to use the \"width\" parameter to make it more attractive\n",
    "- Make sure you add your x and y labels\n",
    "- Create a title for the plot, and add your name and student ID to the title.\n",
    "\n",
    "For your convenience, the normal distribution is as follows:\n",
    "\n",
    "$$ f(x) = \\frac{1}{\\sigma \\sqrt{2\\pi}} e^{-\\frac{(x-\\mu)^2}{2\\sigma^2}}$$\n",
    "\n"
   ]
  },
  {
   "cell_type": "code",
   "execution_count": 24,
   "metadata": {},
   "outputs": [
    {
     "data": {
      "image/png": "[encoded data removed]",
      "text/plain": [
       "<Figure size 640x480 with 1 Axes>"
      ]
     },
     "metadata": {},
     "output_type": "display_data"
    }
   ],
   "source": [
    "d = 7\n",
    "mu = 1\n",
    "sigma = 2\n",
    "x = np.linspace(-7,7,100) ## Use linspace to generate x-values\n",
    "pdf = (1 / (sigma * np.sqrt(2 * np.pi))) * np.exp(-0.5 * ((x - mu) / sigma)**2) # Pass it through a normal distribution formula\n",
    "plt.bar(x, pdf, width=(x[1]-x[0]), alpha=0.7)\n",
    "plt.axvline(mu, color='green', linestyle='dashed', linewidth=2, label='Mean')\n",
    "# Y-label, X-label, title\n",
    "# In other cases, you may want to add in a legend, grid axis etc.\n",
    "plt.xlabel('X')\n",
    "plt.ylabel('Probability Density')\n",
    "plt.title('PDF of Normal Distribution')\n",
    "plt.show()"
   ]
  },
  {
   "cell_type": "markdown",
   "metadata": {},
   "source": [
    "#### (e) Plot the contours of a paraboloid usng a contour plot by following the below instructions\n",
    "- Use np.linspace to create 100 linearly spaced values for your x-axis from -1 to +1\n",
    "- Use np.linspace to create 100 linearly spaced values for your y-axis from -2 to +2\n",
    "- Use np.meshgrid to create a grid where the z-axis values can be evaluated\n",
    "- Evaluate z-axis values using $z = x^2 + \\frac{1}{4} y^2$\n",
    "- Use plt.contourf for plotting\n",
    "- Make sure the x- and y-axes are of equal scale\n",
    "- Make sure to add a colorbar\n",
    "- Make sure you add your x and y labels\n",
    "- Create a title for the plot, and add your name and student ID to the title."
   ]
  },
  {
   "cell_type": "code",
   "execution_count": 26,
   "metadata": {},
   "outputs": [
    {
     "data": {
      "image/png": "[encoded data removed]",
      "text/plain": [
       "<Figure size 640x480 with 2 Axes>"
      ]
     },
     "metadata": {},
     "output_type": "display_data"
    }
   ],
   "source": [
    "x_vals = np.linspace(-1, 1, 100) ## Use linspace to generate x-values\n",
    "y_vals = np.linspace(-2, 2, 100) ## Use linspace to generate y-values\n",
    "X, Y = np.meshgrid(x_vals,y_vals) ## Use meshgrid to generate a grid\n",
    "Z = X**2 + 0.25*Y**2 ## Evaluate z-values on the grid\n",
    "plt.contourf(X,Y,Z) ## Add in the contour plot, make sure you properly label it\n",
    "plt.axis('equal')\n",
    "plt.colorbar(label= 'Z')\n",
    "plt.title('Contour Plot: Campbell 33110018') # Y-label, X-label, title\n",
    "plt.xlabel('x')\n",
    "plt.ylabel('y')\n",
    "plt.show()"
   ]
  },
  {
   "cell_type": "markdown",
   "metadata": {},
   "source": [
    "#### (f) Visualize a rotated checkerboard pattern using plt.imshow() by following the below instructions\n",
    "- Use numpy array that you created in 2.1(d) and rotate it by 90 degrees\n",
    "- Visualize it using plt.imshow()\n",
    "- Make sure the image is black & white\n",
    "- get rid of the x and y-axis ticks\n",
    "- add a colorbar\n",
    "- Create a title for the plot, and add your name and student ID to the title.\n",
    "\n",
    "_plt.imshow_ is a way to display 2D arrays/tensors which will be useful in visualizing images or any results. We will be using this throughout the course.\n",
    "\n",
    "_Hint: There is a rotation function within the numpy library that you could use_"
   ]
  },
  {
   "cell_type": "code",
   "execution_count": 35,
   "metadata": {},
   "outputs": [
    {
     "data": {
      "image/png": "[encoded data removed]",
      "text/plain": [
       "<Figure size 640x480 with 2 Axes>"
      ]
     },
     "metadata": {},
     "output_type": "display_data"
    }
   ],
   "source": [
    "x_checkerboard_rot = np.rot90(checkerboard)\n",
    "plt.imshow(x_checkerboard_rot) ## Use imshow to visualize the checkerboard made in 2.1e\n",
    "plt.colorbar()\n",
    "plt.title(\"Checkerboard: Campbell 33110018\")\n",
    "plt.xticks([])\n",
    "plt.yticks([])\n",
    "plt.show()"
   ]
  },
  {
   "cell_type": "markdown",
   "metadata": {},
   "source": [
    "#### Interesting fact:\n",
    "\n",
    "Matplotlib provide its own script to generate the logo. You can [download the notebook or the python file here](https://matplotlib.org/stable/gallery/misc/logos2.html) to have a look."
   ]
  },
  {
   "cell_type": "markdown",
   "metadata": {},
   "source": [
    "<div class=\"alert alert-block alert-danger\">\n",
    "\n",
    "#### Congratulations on finishing the first part of lab 1. You can now do the second part of lab 1 where you will apply the things you have learnt so far to a geometric and mathematical problem."
   ]
  },
  {
   "cell_type": "markdown",
   "metadata": {},
   "source": []
  }
 ],
 "metadata": {
  "kernelspec": {
   "display_name": "Python 3 (ipykernel)",
   "language": "python",
   "name": "python3"
  },
  "language_info": {
   "codemirror_mode": {
    "name": "ipython",
    "version": 3
   },
   "file_extension": ".py",
   "mimetype": "text/x-python",
   "name": "python",
   "nbconvert_exporter": "python",
   "pygments_lexer": "ipython3",
   "version": "3.10.14"
  },
  "vscode": {
   "interpreter": {
    "hash": "dcb4be09c6369887b255ec43f7f14d3e527fd1b58c5c0441738eb1ab0a956e78"
   }
  }
 },
 "nbformat": 4,
 "nbformat_minor": 4
}
