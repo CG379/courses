{
 "cells": [
  {
   "cell_type": "markdown",
   "metadata": {},
   "source": [
    "<div class=\"alert alert-block alert-warning\">\n",
    "    \n",
    "# Assignment\n",
    "\n",
    "Welcome to the task 5 of the assignment! This notebook contains all the code and comments that you need to submit. The places where you need to edit are highlighted in red. Feel free to add in your own markdown for additional comments.\n",
    "\n",
    "__Submission details: make sure you all your outputs have been generated. Submit this Jupyter Notebook__"
   ]
  },
  {
   "cell_type": "markdown",
   "metadata": {},
   "source": [
    "<b>Enter you student details below</b>\n",
    "\n",
    "- <b>Student Name:</b> Campbell Gregor\n",
    "- <b>Student ID:</b> 33110018  "
   ]
  },
  {
   "cell_type": "markdown",
   "metadata": {},
   "source": [
    "<div class=\"alert alert-block alert-info\">\n",
    "\n",
    "# Speech Recognition Task\n",
    "\n",
    "Speech recognition is the task of converting spoken language into written text. It involves processing audio signals and applying machine learning algorithms to recognize and transcribe spoken words or phrases.\n",
    "\n",
    "- Speech recognition has a wide range of applications, including Voice-Controlled Systems; Speech recognition is used in voice-controlled systems for controlling smart home devices, navigation systems, and automotive applications.\n",
    "\n",
    "- To perform speech recognition, various techniques and models are used, including Hidden Markov Models (HMMs), Deep Neural Networks (DNNs), and Transformer-based models like Wave2Vec2. These models are trained on large datasets of labeled speech data to learn the patterns and features of spoken language.\n",
    "\n",
    "- In this task, we are exploring the task of speech recognition using the Wave2Vec2 model. We preprocess audio data, extract features using the pretrained Wave2Vec2 model, and train a simple MLP model to predict the labels. The dataset used in this notebook is the Speech Commands dataset, which consists of audio recordings of various command words.\n"
   ]
  },
  {
   "cell_type": "markdown",
   "metadata": {},
   "source": [
    "<div class=\"alert alert-block alert-info\">\n",
    "\n",
    "## Kaggle Competition: ECSE 4179/5179/6179 - Assignment 1\n",
    "\n",
    "Welcome to the Kaggle competition for ECSE 4179/5179/6179 - Assignment 1! This competition is part of the course assignments and is designed to test your skills in speech recognition using the Wave2Vec2 model.\n",
    "\n",
    "### Competition Details\n",
    "\n",
    "- Competition Link: [ECSE 4179/5179/6179 - Assignment 1](https://www.kaggle.com/competitions/ecse-4179-5179-6179-2024-s-2-assignment-1)\n",
    "- Registration: You will have been registered with your student email addresses. Please check the above link to see if you can access the assignment.\n",
    "- Access to Competition Dataset: The competition dataset is available in the Data tab of the Kaggle competition page.\n",
    "- Competition Rules: The competition rules can be found in the Rules tab of the Kaggle competition page.\n",
    "- Competition Description: The competition description and task details can be found in the Description tab of the Kaggle competition page.\n",
    "\n",
    "### Competition Task\n",
    "\n",
    "The task of this competition is speech recognition, which involves converting spoken language into written text. Participants are required to process audio signals and apply machine learning algorithms to recognize and transcribe spoken words or phrases.\n",
    "\n",
    "### Dataset\n",
    "\n",
    "The competition dataset consists of audio recordings of various command words. The dataset is divided into three folders: Train, Validation, and Test. The Train folder contains audio files for training the models, the Validation folder contains audio files for hyperparameter tuning, and the Test folder contains audio files for final predictions.\n",
    "\n",
    "### Evaluation\n",
    "\n",
    "The evaluation metric for this competition is accuracy, which measures the percentage of correctly predicted labels.\n",
    "\n",
    "### Getting Started\n",
    "\n",
    "To get started with the competition, please follow these steps:\n",
    "\n",
    "1. Access the competition dataset from the Data tab.\n",
    "2. Read the competition rules and guidelines from the Rules tab.\n",
    "3. Understand the competition task and description from the Description tab.\n",
    "4. Download the dataset and explore the audio files.\n",
    "5. Preprocess the audio data, extract features using the Wave2Vec2 model, and train your models.\n",
    "6. Tune the hyperparameters using the validation dataset.\n",
    "7. Make predictions on the test dataset and submit your results.\n",
    "8. Monitor your leaderboard position and improve your models if necessary.\n",
    "9. Submit your final predictions before the assignment deadline.\n",
    "\n",
    "Good luck and have fun participating in the Kaggle competition!"
   ]
  },
  {
   "cell_type": "markdown",
   "metadata": {},
   "source": [
    "<div class=\"alert alert-block alert-warning\">\n",
    "\n",
    "# Libraries\n",
    "\n",
    "Libraries are important as it saves us time from writing our own functions all the time such as graphing, or creating matrices. Brief library descriptions have been added for every library that we import. You may also check the official documentations for more details.\n",
    "\n",
    "The required libraries are specified in this notebook for you."
   ]
  },
  {
   "cell_type": "code",
   "execution_count": 1,
   "metadata": {},
   "outputs": [
    {
     "name": "stdout",
     "output_type": "stream",
     "text": [
      "cpu\n"
     ]
    }
   ],
   "source": [
    "#import all Python packages needed here\n",
    "import os\n",
    "from tqdm import tqdm\n",
    "\n",
    "import numpy as np\n",
    "import pandas as pd\n",
    "import matplotlib.pyplot as plt\n",
    "\n",
    "# PyTorch or Pytorch Lightning(depend on your choice)\n",
    "import torch\n",
    "from torch.utils.data import Dataset, DataLoader\n",
    "import torch.nn as nn\n",
    "import torch.nn.functional as F\n",
    "from pytorch_lightning.callbacks import Callback, ModelCheckpoint, EarlyStopping\n",
    "import pytorch_lightning as pl\n",
    "from pytorch_lightning.loggers import CSVLogger\n",
    "# TorchMetrics\n",
    "from torchmetrics.classification import Accuracy\n",
    "\n",
    "# Hugging Face\n",
    "from datasets import load_dataset\n",
    "from transformers import HubertModel, HubertConfig #depend on your choice\n",
    "\n",
    "# Audio\n",
    "import soundfile as sf\n",
    "import librosa\n",
    "\n",
    "RND_SEED = 42\n",
    "np.random.seed(RND_SEED)\n",
    "torch.manual_seed(RND_SEED)\n",
    "\n",
    "device = torch.device(\"cuda\" if torch.cuda.is_available() else \"cpu\")\n",
    "print(device)\n",
    "# torch.set_default_device(device)\n",
    "\n",
    "# Import more libraries if needed"
   ]
  },
  {
   "cell_type": "markdown",
   "metadata": {},
   "source": [
    "<div class=\"alert alert-block alert-info\">\n",
    "\n",
    "### Dataset\n",
    "To work with the audio data in this project, you will need to download the zip file **speech_wav.zip** from the Data tab in the Kaggle Competeition Page. Once you have downloaded the zip file, extract its contents, and move **speech_wav** folder to the same directory as your Python notebook. In **speech_wav** folder you have three folders: Train, Validation, and Test.\n",
    "\n",
    "- The **Train** folder contains 18,538 audio files, named trn_00000.wav to trn_18537.wav. You will use these audio files to train your model.\n",
    "\n",
    "- The **Validation** folder contains 2,577 audio files, named val_00000.wav to val_02576.wav. You will use these audio files to find the best hyperparameters for your model.\n",
    "\n",
    "- The **Test** folder contains 2,567 audio files, named tst_00000.wav to tst_02566.wav. You will save your model's predictions using these audio files for the final submission.\n",
    "\n",
    "In addition to the audio files, you will also need the corresponding labels for the training and validation phases. The labels are provided in two CSV files: train.csv and validation.csv.\n",
    "\n",
    "- The **train.csv** file lists the file names under the **ID** column and their corresponding labels under the **Label** column. For example, an entry in the validation.csv file would look like this:\n",
    "\n",
    "    ID, Label\n",
    "    \n",
    "    val_00001.wav, 3\n",
    "\n",
    "    This indicates that the file val_00001.wav is labeled as category \"3,\" which corresponds to the command \"Down.\"\n",
    "\n",
    "The ten command labels are mapped as follows:\n",
    "\n",
    "- 0: Yes\n",
    "- 1: No\n",
    "- 2: Up\n",
    "- 3: Down\n",
    "- 4: Left\n",
    "- 5: Right\n",
    "- 6: On\n",
    "- 7: Off\n",
    "- 8: Stop\n",
    "- 9: Go\n",
    "\n",
    "To get started, please download the datasets from the Data tab on the Kaggle page."
   ]
  },
  {
   "cell_type": "code",
   "execution_count": 2,
   "metadata": {},
   "outputs": [],
   "source": [
    "\n",
    "# Define the mapping of prefixes to the ten command labels\n",
    "label_mapping = {\n",
    "    \"0_\": \"Yes\", \"1_\": \"No\", \"2_\": \"Up\", \"3_\": \"Down\", \"4_\": \"Left\",\n",
    "    \"5_\": \"Right\", \"6_\": \"On\", \"7_\": \"Off\", \"8_\": \"Stop\", \"9_\": \"Go\"\n",
    "}\n",
    "\n",
    "# Define the path to speech_wav folder\n",
    "dataset_path = \".\\Data\\Task5_data\\sp_wav\"\n",
    "csv_path = \".\\Data\\Task5_data\"\n"
   ]
  },
  {
   "cell_type": "markdown",
   "metadata": {},
   "source": [
    "###\n",
    "\n",
    "Before you begin to play with the data, you will need to pre-process the audio data. Preprocessing audio data is an essential step in speech recognition tasks. It involves extracting meaningful features from the raw audio signals that can be used as input to machine learning models. There are various models available for audio feature extraction, such as Waveform-based models like Wave2Vec2.\n",
    "\n",
    "You can choose a model that best suits their needs and expertise to preprocess the audio files. For example, you can use the pretrained Wave2Vec2 model provided by Hugging Face to extract feature embeddings from the audio files. This model has been trained on a large amount of labeled speech data and can capture the patterns and features of spoken language effectively.\n",
    "\n",
    "To preprocess the audio files using the Wave2Vec2 model, follow these steps:\n",
    "\n",
    "1. Load the audio files using a suitable audio processing library like librosa.\n",
    "2. Pass the audio signals through the pretrained Wave2Vec2 model to obtain the feature embeddings.\n",
    "\n",
    "It is important to note that the choice of the preprocessing model may depend on factors such as the size and complexity of the dataset, the computational resources available, and the specific requirements of the task. By preprocessing the audio files into feature embeddings, you can effectively represent the audio data in a format that can be easily understood and processed by the MLP model. This allows the model to learn and make accurate predictions based on the extracted features.\n",
    "\n",
    "Some options for the pre-processing are:\n",
    "- Word2Vec2\n",
    "- Whisper\n",
    "- HuBERT\n"
   ]
  },
  {
   "cell_type": "code",
   "execution_count": 3,
   "metadata": {},
   "outputs": [
    {
     "name": "stderr",
     "output_type": "stream",
     "text": [
      "c:\\Users\\cgreg\\anaconda3\\envs\\ECE4179\\lib\\site-packages\\huggingface_hub\\file_download.py:1150: FutureWarning: `resume_download` is deprecated and will be removed in version 1.0.0. Downloads always resume when possible. If you want to force a new download, use `force_download=True`.\n",
      "  warnings.warn(\n",
      "c:\\Users\\cgreg\\anaconda3\\envs\\ECE4179\\lib\\site-packages\\transformers\\modeling_utils.py:460: FutureWarning: You are using `torch.load` with `weights_only=False` (the current default value), which uses the default pickle module implicitly. It is possible to construct malicious pickle data which will execute arbitrary code during unpickling (See https://github.com/pytorch/pytorch/blob/main/SECURITY.md#untrusted-models for more details). In a future release, the default value for `weights_only` will be flipped to `True`. This limits the functions that could be executed during unpickling. Arbitrary objects will no longer be allowed to be loaded via this mode unless they are explicitly allowlisted by the user via `torch.serialization.add_safe_globals`. We recommend you start setting `weights_only=True` for any use case where you don't have full control of the loaded file. Please open an issue on GitHub for any issues related to this experimental feature.\n",
      "  return torch.load(checkpoint_file, map_location=\"cpu\")\n",
      "Some weights of the model checkpoint at facebook/hubert-base-ls960 were not used when initializing HubertModel: ['encoder.pos_conv_embed.conv.weight_v', 'encoder.pos_conv_embed.conv.weight_g']\n",
      "- This IS expected if you are initializing HubertModel from the checkpoint of a model trained on another task or with another architecture (e.g. initializing a BertForSequenceClassification model from a BertForPreTraining model).\n",
      "- This IS NOT expected if you are initializing HubertModel from the checkpoint of a model that you expect to be exactly identical (initializing a BertForSequenceClassification model from a BertForSequenceClassification model).\n",
      "Some weights of HubertModel were not initialized from the model checkpoint at facebook/hubert-base-ls960 and are newly initialized: ['encoder.pos_conv_embed.conv.parametrizations.weight.original1', 'encoder.pos_conv_embed.conv.parametrizations.weight.original0']\n",
      "You should probably TRAIN this model on a down-stream task to be able to use it for predictions and inference.\n"
     ]
    },
    {
     "data": {
      "text/plain": [
       "HubertModel(\n",
       "  (feature_extractor): HubertFeatureEncoder(\n",
       "    (conv_layers): ModuleList(\n",
       "      (0): HubertGroupNormConvLayer(\n",
       "        (conv): Conv1d(1, 512, kernel_size=(10,), stride=(5,), bias=False)\n",
       "        (activation): GELUActivation()\n",
       "        (layer_norm): GroupNorm(512, 512, eps=1e-05, affine=True)\n",
       "      )\n",
       "      (1-4): 4 x HubertNoLayerNormConvLayer(\n",
       "        (conv): Conv1d(512, 512, kernel_size=(3,), stride=(2,), bias=False)\n",
       "        (activation): GELUActivation()\n",
       "      )\n",
       "      (5-6): 2 x HubertNoLayerNormConvLayer(\n",
       "        (conv): Conv1d(512, 512, kernel_size=(2,), stride=(2,), bias=False)\n",
       "        (activation): GELUActivation()\n",
       "      )\n",
       "    )\n",
       "  )\n",
       "  (feature_projection): HubertFeatureProjection(\n",
       "    (layer_norm): LayerNorm((512,), eps=1e-05, elementwise_affine=True)\n",
       "    (projection): Linear(in_features=512, out_features=768, bias=True)\n",
       "    (dropout): Dropout(p=0.1, inplace=False)\n",
       "  )\n",
       "  (encoder): HubertEncoder(\n",
       "    (pos_conv_embed): HubertPositionalConvEmbedding(\n",
       "      (conv): ParametrizedConv1d(\n",
       "        768, 768, kernel_size=(128,), stride=(1,), padding=(64,), groups=16\n",
       "        (parametrizations): ModuleDict(\n",
       "          (weight): ParametrizationList(\n",
       "            (0): _WeightNorm()\n",
       "          )\n",
       "        )\n",
       "      )\n",
       "      (padding): HubertSamePadLayer()\n",
       "      (activation): GELUActivation()\n",
       "    )\n",
       "    (layer_norm): LayerNorm((768,), eps=1e-05, elementwise_affine=True)\n",
       "    (dropout): Dropout(p=0.1, inplace=False)\n",
       "    (layers): ModuleList(\n",
       "      (0-11): 12 x HubertEncoderLayer(\n",
       "        (attention): HubertAttention(\n",
       "          (k_proj): Linear(in_features=768, out_features=768, bias=True)\n",
       "          (v_proj): Linear(in_features=768, out_features=768, bias=True)\n",
       "          (q_proj): Linear(in_features=768, out_features=768, bias=True)\n",
       "          (out_proj): Linear(in_features=768, out_features=768, bias=True)\n",
       "        )\n",
       "        (dropout): Dropout(p=0.1, inplace=False)\n",
       "        (layer_norm): LayerNorm((768,), eps=1e-05, elementwise_affine=True)\n",
       "        (feed_forward): HubertFeedForward(\n",
       "          (intermediate_dropout): Dropout(p=0.1, inplace=False)\n",
       "          (intermediate_dense): Linear(in_features=768, out_features=3072, bias=True)\n",
       "          (intermediate_act_fn): GELUActivation()\n",
       "          (output_dense): Linear(in_features=3072, out_features=768, bias=True)\n",
       "          (output_dropout): Dropout(p=0.1, inplace=False)\n",
       "        )\n",
       "        (final_layer_norm): LayerNorm((768,), eps=1e-05, elementwise_affine=True)\n",
       "      )\n",
       "    )\n",
       "  )\n",
       ")"
      ]
     },
     "execution_count": 3,
     "metadata": {},
     "output_type": "execute_result"
    }
   ],
   "source": [
    "# Initialize HuBERT model\n",
    "model_name = \"facebook/hubert-base-ls960\"\n",
    "hubert_config = HubertConfig.from_pretrained(model_name)\n",
    "hubert_model = HubertModel.from_pretrained(model_name, config=hubert_config)\n",
    "\n",
    "# Move the model to the device (GPU if available, otherwise CPU)\n",
    "hubert_model.to(device)\n"
   ]
  },
  {
   "cell_type": "markdown",
   "metadata": {},
   "source": [
    "<div class=\"alert alert-block alert-info\">\n",
    "\n",
    "### Feature extraction from audio files\n",
    "The `process_split` function is responsible for processing the audio files and their corresponding labels for a given split (train, validation, or test) of the dataset. It takes two inputs: the path to the CSV file containing the file names and labels, and the path to the folder containing the audio files. The function returns two outputs: the processed feature vectors (pooled tensors) and their corresponding labels.\n",
    "\n",
    "Here is a high-level explanation of how to write the `process_split` function:\n",
    "\n",
    "1. Read the CSV file using a suitable library (e.g., pandas) to obtain the file names and labels.\n",
    "2. Initialize empty lists to store the processed feature vectors and labels.\n",
    "3. Iterate over each row in the CSV file.\n",
    "4. Construct the full path to the audio file by concatenating the audio folder path and the file name.\n",
    "5. Load the audio file using an audio processing library (e.g., librosa).\n",
    "6. Process the audio input using the desired audio processing model (e.g., Wave2Vec2) to obtain the feature embeddings.\n",
    "7. Store the processed feature vector (pooled tensor) and its corresponding label in the respective lists.\n",
    "8. Convert the lists to numpy arrays.\n",
    "9. Return the processed feature vectors and labels as the output of the function. Use the output of the function to save it to a .npz file format.\n",
    "\n",
    "By following these steps, the `process_split` function will preprocess the audio files and extract meaningful features that can be used as input to machine learning models for speech recognition tasks."
   ]
  },
  {
   "cell_type": "code",
   "execution_count": 3,
   "metadata": {},
   "outputs": [],
   "source": [
    "\n",
    "# Function to process files based on the CSV file and return pooled tensors and labels\n",
    "def process_split(csv_file, audio_folder):\n",
    "    pooled_tensors = []\n",
    "    labels = []\n",
    "    \n",
    "    # Read the CSV file\n",
    "    df = pd.read_csv(csv_file)\n",
    "    \n",
    "    # Process each row in the CSV file\n",
    "    for _, row in df.iterrows():\n",
    "        file_name = row['ID']\n",
    "        label = row['Label']\n",
    "        \n",
    "        # Construct the full path to the audio file\n",
    "        audio_file = f\"{file_name}.wav\" if not file_name.endswith(\".wav\") else file_name\n",
    "        audio_path = os.path.normpath(os.path.join(audio_folder, audio_file))\n",
    "        \n",
    "        # Load the audio file using librosa.load\n",
    "        try:\n",
    "            # Optionally specify a target sampling rate (e.g., sr=16000)\n",
    "            audio, sr = librosa.load(audio_path)\n",
    "        except FileNotFoundError:\n",
    "            print(f\"File not found: {audio_path}\")\n",
    "            continue\n",
    "        except Exception as e:\n",
    "            print(f\"Error loading {audio_path}: {e}\")\n",
    "            continue\n",
    "        \n",
    "        # Process the audio input using the pre-trained HuBERT model\n",
    "        audio_tensor = torch.tensor(audio).unsqueeze(0).to(device)\n",
    "        \n",
    "        # Ensure no gradients are calculated during inference\n",
    "        with torch.no_grad():\n",
    "            outputs = hubert_model(audio_tensor)\n",
    "            features = outputs.last_hidden_state\n",
    "        \n",
    "        # Apply average pooling across the sequence dimension to get a 1x768 tensor\n",
    "        pooled_tensor = torch.mean(features, dim=1).squeeze(0)\n",
    "        \n",
    "        # Store the pooled tensor and label\n",
    "        pooled_tensors.append(pooled_tensor.cpu().numpy())\n",
    "        labels.append(label)\n",
    "    \n",
    "    # Convert lists to numpy arrays\n",
    "    pooled_tensors = np.array(pooled_tensors)\n",
    "    labels = np.array(labels)\n",
    "    \n",
    "    # Return the pooled tensors and labels\n",
    "    return pooled_tensors, labels\n",
    "\n"
   ]
  },
  {
   "cell_type": "markdown",
   "metadata": {},
   "source": [
    "To obtain the extracted features and corresponding labels for the train, validation, and test splits, you can apply the `process_split` function on each split individually. Here are the steps to follow:\n",
    "\n",
    "1. Call the `process_split` function for the train split by providing the path to the train CSV file and the audio folder. This will return the processed feature vectors and labels for the train split.\n",
    "\n",
    "2. Repeat the same step for the validation split and test split, providing the respective CSV file and audio folder paths. However, note that for the test split, you won't have the labels available.\n",
    "\n",
    "\n",
    "Please note that in the test split, you won't have the labels available as they are not provided."
   ]
  },
  {
   "cell_type": "code",
   "execution_count": 5,
   "metadata": {},
   "outputs": [
    {
     "name": "stdout",
     "output_type": "stream",
     "text": [
      "Saved train data to train_data.npz. Shape: (18538, 768), Labels: (18538,)\n",
      "Saved validation data to validation_data.npz. Shape: (2577, 768), Labels: (2577,)\n",
      "Saved new_test data to new_test_data.npz. Shape: (2137, 768), Labels: (2137,)\n"
     ]
    }
   ],
   "source": [
    "\n",
    "# Process each split and save the results\n",
    "for split in ['train', 'validation', 'new_test']:\n",
    "    csv_file = os.path.join(csv_path,f\"{split}.csv\")\n",
    "    audio_folder = os.path.join(dataset_path, split) \n",
    "    # Process the split folder\n",
    "    X, y = process_split(csv_file, audio_folder)\n",
    "    \n",
    "    # Save the pooled tensors and labels into an npz file\n",
    "    npz_file_path = os.path.join(f\"{split}_data.npz\")\n",
    "    np.savez(npz_file_path, X=X, y=y)\n",
    "    \n",
    "    print(f\"Saved {split} data to {npz_file_path}. Shape: {X.shape}, Labels: {y.shape}\")"
   ]
  },
  {
   "cell_type": "markdown",
   "metadata": {},
   "source": [
    "Your output should look similar to the one below: \n",
    "\n",
    "```\n",
    "Saved train data to train_data.npz. Shape: (18538, 768), Labels: (18538,)\n",
    "Saved validation data to validation_data.npz. Shape: (2577, 768), Labels: (2577,)\n",
    "Saved test data to test_data.npz. Shape: (2567, 768), Labels: (2567,)\n",
    "```"
   ]
  },
  {
   "cell_type": "markdown",
   "metadata": {},
   "source": [
    "<div class=\"alert alert-block alert-info\">\n",
    "\n",
    "### Dataset Class\n",
    "\n",
    "To create the train-validation and test sets, we can define a custom Dataset class (SpeechCommandsDataset) that takes the split name (\"train\", \"validation\", or \"test\") and the extracted features and labels as input. This class will handle the creation of the train-validation and test sets based on the split name.\n",
    "\n",
    "By using this SpeechCommandsDataset class, we can easily create the train-validation and test sets by passing the split name (\"train\", \"validation\", or \"test\") and the extracted features and labels. For the test set, the labels will be None as we don't have labels for the test set."
   ]
  },
  {
   "cell_type": "markdown",
   "metadata": {},
   "source": [
    "The Dataset Class is provided here"
   ]
  },
  {
   "cell_type": "code",
   "execution_count": 4,
   "metadata": {},
   "outputs": [],
   "source": [
    "class SpeechCommandsDataset(Dataset):\n",
    "    def __init__(self, parent_folder=None, \n",
    "                 split=\"train\"):\n",
    "        \"\"\"\n",
    "        Initializes the dataset by loading data from the corresponding npz file.\n",
    "        \n",
    "        Args:\n",
    "        - parent_folder (str): Path to the parent folder containing the split npz files.\n",
    "        - split (str): The split of the dataset to load ('train', 'validation', or 'test').\n",
    "        \"\"\"\n",
    "        # Build the path to the corresponding npz file\n",
    "        npz_file = os.path.join(parent_folder, f\"{split}_data.npz\")\n",
    "        \n",
    "        # Load the data from the .npz file\n",
    "        data = np.load(npz_file)\n",
    "        self.X = data['X']  # Feature vectors (e.g., of shape [num_samples, 768])\n",
    "        self.y = data['y']  # Corresponding labels (e.g., of shape [num_samples])\n",
    "        \n",
    "        # Optionally, convert labels to integers if they're strings\n",
    "        unique_labels = sorted(set(self.y))\n",
    "        if split == \"new_test\": # This is to take care of empty labels in the test set\n",
    "            self.label_to_index = {}\n",
    "            self.y = np.empty(len(self.X)) \n",
    "\n",
    "        else:\n",
    "            self.label_to_index = {label: idx for idx, label in enumerate(unique_labels)}\n",
    "            self.y = np.array([self.label_to_index[label] for label in self.y], dtype=np.int64)\n",
    "\n",
    "    def __len__(self):\n",
    "        \"\"\"\n",
    "        Returns the number of samples in the dataset.\n",
    "        \"\"\"\n",
    "        return len(self.X)\n",
    "\n",
    "    def __getitem__(self, idx):\n",
    "        \"\"\"\n",
    "        Retrieves the sample at index `idx`.\n",
    "        \n",
    "        Args:\n",
    "        - idx (int): Index of the sample to retrieve.\n",
    "        \n",
    "        Returns:\n",
    "        - A tuple (features, label) where:\n",
    "          - features is a tensor of shape [768] representing the pooled feature vector.\n",
    "          - label is an integer representing the corresponding class.\n",
    "        \"\"\"\n",
    "        # Convert features to float tensor\n",
    "        features = torch.tensor(self.X[idx], dtype=torch.float32)  \n",
    "\n",
    "        # Convert label to a long tensor (int)\n",
    "        label = torch.tensor(self.y[idx], dtype=torch.long)  \n",
    "        \n",
    "        return features, label"
   ]
  },
  {
   "cell_type": "markdown",
   "metadata": {},
   "source": [
    "To train the MLP classifier on the data, we need to create the train, validation, and test datasets, as well as the corresponding dataloaders. Here are the steps to create and prepare the datasets and dataloaders:\n",
    "\n",
    "1. Create instances of the `SpeechCommandsDataset` class for the train, validation, and test splits. Pass the parent folder path and the split name (\"train\", \"validation\", or \"test\") as arguments.\n",
    "\n",
    "2. Create instances of the `DataLoader` class for the train, validation, and test datasets. Specify the batch size and set the `shuffle` parameter to `True` for the train loader and `False` for the validation and test loaders.\n"
   ]
  },
  {
   "cell_type": "code",
   "execution_count": 5,
   "metadata": {},
   "outputs": [],
   "source": [
    "\n",
    "npz_dataset_path = \".\"\n",
    "\n",
    "# Create dataset instances by specifying the parent folder and split\n",
    "train_dataset = SpeechCommandsDataset(parent_folder=npz_dataset_path, split=\"train\")\n",
    "validation_dataset = SpeechCommandsDataset(parent_folder=npz_dataset_path, split=\"validation\")\n",
    "test_dataset = SpeechCommandsDataset(parent_folder=npz_dataset_path, split=\"new_test\")\n",
    "\n",
    "# Create DataLoader instances\n",
    "batch_size = 256\n",
    "train_loader = DataLoader(train_dataset, batch_size=batch_size, shuffle=True)\n",
    "validation_loader = DataLoader(validation_dataset, batch_size=batch_size, shuffle=False)\n",
    "test_loader = DataLoader(test_dataset, batch_size=batch_size, shuffle=False)\n",
    "#print(next(iter(test_loader)))"
   ]
  },
  {
   "cell_type": "markdown",
   "metadata": {},
   "source": [
    "<div class=\"alert alert-block alert-info\">\n",
    "\n",
    "### Classification Model\n",
    "\n",
    "To classify the extracted features and predict the corresponding command category, we can define a classification model using PyTorch or PyTorch Lightning. \n",
    "\n",
    "You can customize the model architecture according to your specific requirements and experiment with different architectures to improve the classification performance."
   ]
  },
  {
   "cell_type": "code",
   "execution_count": 6,
   "metadata": {},
   "outputs": [],
   "source": [
    "class SpeechCommandModel(pl.LightningModule):\n",
    "    def __init__(self, num_classes):\n",
    "        super().__init__()\n",
    "        \n",
    "        self.save_hyperparameters()\n",
    "\n",
    "        # Define Neural Network layers\n",
    "        self.fc1 = nn.Linear(768, 512)\n",
    "        self.fc2 = nn.Linear(512, 256)\n",
    "        self.fc3 = nn.Linear(256, 128)\n",
    "        self.fc4 = nn.Linear(128, num_classes)\n",
    "\n",
    "        # Define activation function\n",
    "        self.relu = nn.ReLU()\n",
    "\n",
    "        # Define loss function\n",
    "        self.loss_fn = nn.CrossEntropyLoss()\n",
    "\n",
    "        # Define metrics for Train, Val and Test\n",
    "        self.train_accuracy = Accuracy(task=\"multiclass\", num_classes=num_classes)\n",
    "        self.val_accuracy = Accuracy(task=\"multiclass\", num_classes=num_classes)\n",
    "        self.test_accuracy = Accuracy(task=\"multiclass\", num_classes=num_classes)\n",
    "\n",
    "        self.learning_rate = 0.001\n",
    "\n",
    "    def forward(self, x):\n",
    "        # Define Forward pass logic\n",
    "        x = self.relu(self.fc1(x))\n",
    "        x = self.relu(self.fc2(x))\n",
    "        x = self.relu(self.fc3(x))\n",
    "        x = self.fc4(x)\n",
    "        return x\n",
    "\n",
    "    def training_step(self, batch, batch_idx):\n",
    "        x, y = batch\n",
    "        logits = self(x)\n",
    "        pred = logits.argmax(1)\n",
    "        loss = self.loss_fn(logits, y)\n",
    "        self.train_accuracy.update(pred, y)\n",
    "        \n",
    "        self.log(\"train_loss\", loss, prog_bar=True, on_step=False, on_epoch=True)\n",
    "        self.log(\"train_acc\", self.train_accuracy, prog_bar=True, on_step=False, on_epoch=True)\n",
    "\n",
    "        return loss\n",
    "\n",
    "    def validation_step(self, batch, batch_idx):\n",
    "        x, y = batch\n",
    "        logits = self(x)\n",
    "        pred = logits.argmax(1)\n",
    "        loss = self.loss_fn(logits, y)\n",
    "        self.val_accuracy.update(pred, y)\n",
    "        \n",
    "        self.log(\"val_loss\", loss, prog_bar=True, on_step=False, on_epoch=True)\n",
    "        self.log(\"val_acc\", self.val_accuracy, prog_bar=True, on_step=False, on_epoch=True)\n",
    "\n",
    "        return loss\n",
    "\n",
    "    def test_step(self, batch, batch_idx):\n",
    "        x, y = batch\n",
    "        logits = self(x)\n",
    "        pred = logits.argmax(1)\n",
    "        loss = self.loss_fn(logits, y)\n",
    "        self.test_accuracy.update(pred, y)\n",
    "\n",
    "        self.log(\"test_loss\", loss, prog_bar=True, on_step=False, on_epoch=True)\n",
    "        self.log(\"test_acc\", self.test_accuracy, prog_bar=True, on_step=False, on_epoch=True)\n",
    "        \n",
    "        return logits\n",
    "\n",
    "    def predict_step(self, batch, batch_idx):\n",
    "        x, y = batch\n",
    "        logits = self(x)\n",
    "        pred = logits.argmax(dim=1)\n",
    "\n",
    "        return pred  \n",
    "\n",
    "    def configure_optimizers(self):\n",
    "        optimizer = torch.optim.Adam(self.parameters(), lr=self.learning_rate)\n",
    "        return optimizer\n",
    "\n",
    "    ####################\n",
    "    # DATA RELATED HOOKS\n",
    "    ####################\n",
    "\n",
    "    def train_dataloader(self):\n",
    "        return train_loader\n",
    "\n",
    "    def val_dataloader(self):\n",
    "        return validation_loader\n",
    "\n",
    "    def test_dataloader(self):\n",
    "        return test_loader"
   ]
  },
  {
   "cell_type": "code",
   "execution_count": 7,
   "metadata": {},
   "outputs": [
    {
     "name": "stderr",
     "output_type": "stream",
     "text": [
      "GPU available: False, used: False\n",
      "TPU available: False, using: 0 TPU cores\n",
      "HPU available: False, using: 0 HPUs\n"
     ]
    }
   ],
   "source": [
    "# Instantiate the MLP model\n",
    "# Initialize the model by creating instance from Model class\n",
    "mlp_model = SpeechCommandModel(num_classes=len(label_mapping))\n",
    "\n",
    "checkpoint_callback = ModelCheckpoint(\n",
    "        monitor=\"val_loss\",\n",
    "        dirpath=\"checkpoints_task_5/\",\n",
    "        save_top_k=1,        \n",
    "        mode=\"min\",\n",
    "        every_n_epochs=1\n",
    "    )\n",
    "\n",
    "\n",
    "task5_trainer = pl.Trainer(\n",
    "    accelerator=\"auto\",\n",
    "        devices = 1 if not torch.cuda.is_available() else torch.cuda.device_count(),  \n",
    "        max_epochs=20,\n",
    "        callbacks=[checkpoint_callback],\n",
    "        logger=CSVLogger(save_dir=\"./logs_task_5\"),\n",
    ")"
   ]
  },
  {
   "cell_type": "code",
   "execution_count": 18,
   "metadata": {},
   "outputs": [
    {
     "name": "stderr",
     "output_type": "stream",
     "text": [
      "\n",
      "  | Name           | Type               | Params | Mode \n",
      "--------------------------------------------------------------\n",
      "0 | fc1            | Linear             | 393 K  | train\n",
      "1 | fc2            | Linear             | 131 K  | train\n",
      "2 | fc3            | Linear             | 32.9 K | train\n",
      "3 | fc4            | Linear             | 1.3 K  | train\n",
      "4 | relu           | ReLU               | 0      | train\n",
      "5 | loss_fn        | CrossEntropyLoss   | 0      | train\n",
      "6 | train_accuracy | MulticlassAccuracy | 0      | train\n",
      "7 | val_accuracy   | MulticlassAccuracy | 0      | train\n",
      "8 | test_accuracy  | MulticlassAccuracy | 0      | train\n",
      "--------------------------------------------------------------\n",
      "559 K     Trainable params\n",
      "0         Non-trainable params\n",
      "559 K     Total params\n",
      "2.237     Total estimated model params size (MB)\n",
      "9         Modules in train mode\n",
      "0         Modules in eval mode\n"
     ]
    },
    {
     "data": {
      "application/vnd.jupyter.widget-view+json": {
       "model_id": "7259fca91a1a4eb79d494eab0cbf4a60",
       "version_major": 2,
       "version_minor": 0
      },
      "text/plain": [
       "Sanity Checking: |          | 0/? [00:00<?, ?it/s]"
      ]
     },
     "metadata": {},
     "output_type": "display_data"
    },
    {
     "data": {
      "application/vnd.jupyter.widget-view+json": {
       "model_id": "241d7444078b4e6bb25febc9408a6055",
       "version_major": 2,
       "version_minor": 0
      },
      "text/plain": [
       "Training: |          | 0/? [00:00<?, ?it/s]"
      ]
     },
     "metadata": {},
     "output_type": "display_data"
    },
    {
     "data": {
      "application/vnd.jupyter.widget-view+json": {
       "model_id": "5e5cbd615c6342058b942c2630c45aa3",
       "version_major": 2,
       "version_minor": 0
      },
      "text/plain": [
       "Validation: |          | 0/? [00:00<?, ?it/s]"
      ]
     },
     "metadata": {},
     "output_type": "display_data"
    },
    {
     "data": {
      "application/vnd.jupyter.widget-view+json": {
       "model_id": "666b071601e848698a1455691a660d31",
       "version_major": 2,
       "version_minor": 0
      },
      "text/plain": [
       "Validation: |          | 0/? [00:00<?, ?it/s]"
      ]
     },
     "metadata": {},
     "output_type": "display_data"
    },
    {
     "data": {
      "application/vnd.jupyter.widget-view+json": {
       "model_id": "0290824b27504e4b86b9ea1fbcc2872c",
       "version_major": 2,
       "version_minor": 0
      },
      "text/plain": [
       "Validation: |          | 0/? [00:00<?, ?it/s]"
      ]
     },
     "metadata": {},
     "output_type": "display_data"
    },
    {
     "data": {
      "application/vnd.jupyter.widget-view+json": {
       "model_id": "f108529aa2ad4b3bbacf705dd6feab81",
       "version_major": 2,
       "version_minor": 0
      },
      "text/plain": [
       "Validation: |          | 0/? [00:00<?, ?it/s]"
      ]
     },
     "metadata": {},
     "output_type": "display_data"
    },
    {
     "data": {
      "application/vnd.jupyter.widget-view+json": {
       "model_id": "9f61f17991ae43b2b2d875fe72c70697",
       "version_major": 2,
       "version_minor": 0
      },
      "text/plain": [
       "Validation: |          | 0/? [00:00<?, ?it/s]"
      ]
     },
     "metadata": {},
     "output_type": "display_data"
    },
    {
     "data": {
      "application/vnd.jupyter.widget-view+json": {
       "model_id": "c1e49afa60d44e59868e882fc7c9822b",
       "version_major": 2,
       "version_minor": 0
      },
      "text/plain": [
       "Validation: |          | 0/? [00:00<?, ?it/s]"
      ]
     },
     "metadata": {},
     "output_type": "display_data"
    },
    {
     "data": {
      "application/vnd.jupyter.widget-view+json": {
       "model_id": "0a9707127812481eb244cdd5e733b422",
       "version_major": 2,
       "version_minor": 0
      },
      "text/plain": [
       "Validation: |          | 0/? [00:00<?, ?it/s]"
      ]
     },
     "metadata": {},
     "output_type": "display_data"
    },
    {
     "data": {
      "application/vnd.jupyter.widget-view+json": {
       "model_id": "7135fe14435c4ae3baa52a4d9923d49d",
       "version_major": 2,
       "version_minor": 0
      },
      "text/plain": [
       "Validation: |          | 0/? [00:00<?, ?it/s]"
      ]
     },
     "metadata": {},
     "output_type": "display_data"
    },
    {
     "data": {
      "application/vnd.jupyter.widget-view+json": {
       "model_id": "edb09aa4b23347c4812191b66e3b49a2",
       "version_major": 2,
       "version_minor": 0
      },
      "text/plain": [
       "Validation: |          | 0/? [00:00<?, ?it/s]"
      ]
     },
     "metadata": {},
     "output_type": "display_data"
    },
    {
     "data": {
      "application/vnd.jupyter.widget-view+json": {
       "model_id": "0c237844ee8a45b5a99090f4d496108d",
       "version_major": 2,
       "version_minor": 0
      },
      "text/plain": [
       "Validation: |          | 0/? [00:00<?, ?it/s]"
      ]
     },
     "metadata": {},
     "output_type": "display_data"
    },
    {
     "data": {
      "application/vnd.jupyter.widget-view+json": {
       "model_id": "e556179ace24489f8271d127fc628d91",
       "version_major": 2,
       "version_minor": 0
      },
      "text/plain": [
       "Validation: |          | 0/? [00:00<?, ?it/s]"
      ]
     },
     "metadata": {},
     "output_type": "display_data"
    },
    {
     "data": {
      "application/vnd.jupyter.widget-view+json": {
       "model_id": "9084d154657e4d24b5f68a0b5c135a83",
       "version_major": 2,
       "version_minor": 0
      },
      "text/plain": [
       "Validation: |          | 0/? [00:00<?, ?it/s]"
      ]
     },
     "metadata": {},
     "output_type": "display_data"
    },
    {
     "data": {
      "application/vnd.jupyter.widget-view+json": {
       "model_id": "43237ecd86204a2f84b92cb08efdf4e6",
       "version_major": 2,
       "version_minor": 0
      },
      "text/plain": [
       "Validation: |          | 0/? [00:00<?, ?it/s]"
      ]
     },
     "metadata": {},
     "output_type": "display_data"
    },
    {
     "data": {
      "application/vnd.jupyter.widget-view+json": {
       "model_id": "f23bffc2756d4240ad3f1a63a4735926",
       "version_major": 2,
       "version_minor": 0
      },
      "text/plain": [
       "Validation: |          | 0/? [00:00<?, ?it/s]"
      ]
     },
     "metadata": {},
     "output_type": "display_data"
    },
    {
     "data": {
      "application/vnd.jupyter.widget-view+json": {
       "model_id": "c65846d28d7846c8bd0325f7e2da3b7f",
       "version_major": 2,
       "version_minor": 0
      },
      "text/plain": [
       "Validation: |          | 0/? [00:00<?, ?it/s]"
      ]
     },
     "metadata": {},
     "output_type": "display_data"
    },
    {
     "data": {
      "application/vnd.jupyter.widget-view+json": {
       "model_id": "ee386db639a54fbea2fe216e78e187f5",
       "version_major": 2,
       "version_minor": 0
      },
      "text/plain": [
       "Validation: |          | 0/? [00:00<?, ?it/s]"
      ]
     },
     "metadata": {},
     "output_type": "display_data"
    },
    {
     "data": {
      "application/vnd.jupyter.widget-view+json": {
       "model_id": "b5c3badb710547bd9756116df0616e6b",
       "version_major": 2,
       "version_minor": 0
      },
      "text/plain": [
       "Validation: |          | 0/? [00:00<?, ?it/s]"
      ]
     },
     "metadata": {},
     "output_type": "display_data"
    },
    {
     "data": {
      "application/vnd.jupyter.widget-view+json": {
       "model_id": "ffd16f7d08d24bfa98b3751a1b1ba750",
       "version_major": 2,
       "version_minor": 0
      },
      "text/plain": [
       "Validation: |          | 0/? [00:00<?, ?it/s]"
      ]
     },
     "metadata": {},
     "output_type": "display_data"
    },
    {
     "data": {
      "application/vnd.jupyter.widget-view+json": {
       "model_id": "24fb074c76e048c7b60c52bff3941691",
       "version_major": 2,
       "version_minor": 0
      },
      "text/plain": [
       "Validation: |          | 0/? [00:00<?, ?it/s]"
      ]
     },
     "metadata": {},
     "output_type": "display_data"
    },
    {
     "data": {
      "application/vnd.jupyter.widget-view+json": {
       "model_id": "91e6e6e81c4f4aeea2d3afaedc75e5dc",
       "version_major": 2,
       "version_minor": 0
      },
      "text/plain": [
       "Validation: |          | 0/? [00:00<?, ?it/s]"
      ]
     },
     "metadata": {},
     "output_type": "display_data"
    },
    {
     "name": "stderr",
     "output_type": "stream",
     "text": [
      "`Trainer.fit` stopped: `max_epochs=20` reached.\n"
     ]
    }
   ],
   "source": [
    "task5_trainer.fit(mlp_model)"
   ]
  },
  {
   "cell_type": "markdown",
   "metadata": {},
   "source": [
    "<div class=\"alert alert-block alert-info\">\n",
    "\n",
    "### Training and evaluating the classifier\n",
    "\n",
    "Train and evaluate your classifier on several hyperparameters. Experiment with different hyperparameter combinations and model architectures to find the best performing model. Use ModelCheckpoint from the torch library and you can use the torch.load() function to load in the best model. Set appropriate parameters and good luck with the competition!"
   ]
  },
  {
   "cell_type": "code",
   "execution_count": 8,
   "metadata": {},
   "outputs": [],
   "source": [
    "# Add code here to train and evaluate the classifier\n",
    "#task5_trainer.test(mlp_model, test_loader)"
   ]
  },
  {
   "cell_type": "code",
   "execution_count": 12,
   "metadata": {},
   "outputs": [
    {
     "data": {
      "image/png": "[encoded data removed]",
      "text/plain": [
       "<Figure size 640x480 with 1 Axes>"
      ]
     },
     "metadata": {},
     "output_type": "display_data"
    },
    {
     "data": {
      "image/png": "[encoded data removed]",
      "text/plain": [
       "<Figure size 640x480 with 1 Axes>"
      ]
     },
     "metadata": {},
     "output_type": "display_data"
    }
   ],
   "source": [
    "# Done all this above \n",
    "\n",
    "# Train the model with progress bars\n",
    "\n",
    "# Define the optimizer\n",
    "#optimizer = torch.optim.Adam(mlp_model.parameters(), lr=0.001)\n",
    "\n",
    "#train_model(mlp_model, optimizer, epochs=10)\n",
    "\n",
    "metrics_task = pd.read_csv(\"./logs_task_5/lightning_logs/version_0/metrics.csv\")\n",
    "metrics_task.set_index(\"epoch\", inplace=True)\n",
    "metrics_task = metrics_task.groupby(level=0).sum().drop(\"step\", axis=1)\n",
    "#print(metrics_task.keys())\n",
    "\n",
    "# Plot using matplotlib to plot your results\n",
    "plt.figure()\n",
    "plt.plot(metrics_task.index, metrics_task['train_loss'], label='Train Error')\n",
    "plt.plot(metrics_task.index, metrics_task['val_loss'], label='Validation Error')\n",
    "plt.xlabel('Epoch')\n",
    "plt.ylabel('Loss')\n",
    "plt.title('Training and Validation Loss')\n",
    "plt.legend()\n",
    "plt.grid(True)\n",
    "plt.show()\n",
    "\n",
    "\n",
    "plt.figure()\n",
    "plt.plot(metrics_task.index, metrics_task['train_acc'], label='Train Accuracy')\n",
    "plt.plot(metrics_task.index, metrics_task['val_acc'], label='Validation Accuracy')\n",
    "plt.xlabel('Epoch')\n",
    "plt.ylabel('Accuracy')\n",
    "plt.title('Training and Validation Accuracy')\n",
    "plt.legend()\n",
    "plt.grid(True)\n",
    "plt.show()"
   ]
  },
  {
   "cell_type": "markdown",
   "metadata": {},
   "source": [
    "<div class=\"alert alert-block alert-success\">\n",
    "    \n",
    "### Task 5: Discussion Questions <a class=\"anchor\" id=\"t5_5\"></a>\n",
    "\n",
    "### Questions\n",
    "1. What is the approach you took to solve the problem?\n",
    "\n",
    "2. Describe your chosen model and hyper-parameter tuning procedure.\n",
    "\n",
    "3. Observations and plots from the evaluation on the test set and your own recordings. Have you managed to improve your model over time?\n",
    "    \n",
    "### Answers\n",
    "    \n",
    "1. First was choosing the proper the speech recognition model. After some research I found teh following:\n",
    "- Word2Vec2 seemed to be a good choice. Focusses on laerning from raw audio and can be fine-tuned for various speech-related tasks. You also need a tokeniser to decode the output\n",
    "- Whisper Focuses on transcription and translation, outputting text directly. Designed ot handle multiple langauges and accents, which is useful but probably not for sigle word commands. It's output would be a varible length, not a fixed vector length makinging it harder to input into a model\n",
    "- Hubert is similar to Word2Vec2 but uses a different methodology. It was useful at predicting clusters which I thought would be good for single word comands (since each word could be a cluster?). The most computationally expensive option.\n",
    "\n",
    "I chose to go with Hubert as I thought it had a lot of upsides and I was heading to work so I could let it run while I was there.\n",
    "For the model, I used a basic feedforeward MLP as it seemed like the right choise for a classification problem. \n",
    "\n",
    "2. Model structure was:\n",
    "- Input layer: 768 neurons (matching the output length of Hubert).\n",
    "- Three hidden layers with 512, 256, and 128 neurons respectively, each followed by ReLU activation.\n",
    "- Output layer: num_classes (10) neurons for classification.\n",
    "\n",
    "I used the Cross-Entropy Loss as it was a multiclass classification problem and the Adam optimizer with a learning rate of 0.001.\n",
    "- 4 layers were chosen as I thought speech would be a bit more complex and require additional layers to extract the features\n",
    "- Initial experiments with the activation function showed little change so I just kept it at ReLu\n",
    "- 0.001 falls within the standard learning rate range for Adam optimizer\n",
    "- The model checkpoint at 10-15 epochs so I kept epochs low at 20.\n",
    "\n",
    "3. After uploading the model achieved 94% Test Accuracy. This indicates the model performs well on unseen data, suggesting good generalization.\n",
    "- Loss curves seem to drop realy early and as the we go through the epochs they are unstable. This suggests that the model finds the optimal values early in the training.\n",
    "\n",
    "\n"
   ]
  },
  {
   "cell_type": "markdown",
   "metadata": {},
   "source": [
    "<div class=\"alert alert-block alert-info\">\n",
    "\n",
    "### Final Submission to Kaggle \n",
    "To evaluate the performance of your best model on the test set and generate predictions for submission to the Kaggle competition, you can use the `evaluate_model_and_save_prediction` function provided below. You can only submit one time per day for the Kaggle competition and we only take your final CSV submission\n",
    "\n",
    "The function takes three arguments: the trained model (your best model), the dataloader for the test set, and the path to the CSV file containing the test filenames. \n",
    "\n",
    "\n",
    "After running this code, the function will evaluate the model on the test set, generate predictions, and save them to a CSV file. You can then submit the CSV file to the Kaggle competition for evaluation. \n",
    "\n",
    "Please note that the `evaluate_model_and_save_prediction` function assumes that the model has already been trained and is ready for evaluation. It also assumes that the test dataset has been preprocessed and is ready for evaluation. \n",
    "\n",
    "Good luck with your submission to the Kaggle competition!\n",
    "```"
   ]
  },
  {
   "cell_type": "markdown",
   "metadata": {},
   "source": [
    "### DO NOT change any code below, other than your name and ID"
   ]
  },
  {
   "cell_type": "code",
   "execution_count": 36,
   "metadata": {},
   "outputs": [],
   "source": [
    "# Update your name, and ID here\n",
    "First_name = \"Campbell\"\n",
    "Surname = \"Gregor\"\n",
    "Student_ID = 33110018\n",
    "# I was having soime issues with making the csv file, I resolved it by copying the new_test out of its directory\n",
    "# and renaming it to Campbell_Gregor_33110018.csv each time I predicted\n",
    "# I didn't want to alter the below code "
   ]
  },
  {
   "cell_type": "code",
   "execution_count": 32,
   "metadata": {},
   "outputs": [],
   "source": [
    "# DO NOT CHANGE!\n",
    "def evaluate_model_and_save_predictions(model, loader, device, csv_file):\n",
    "    \"\"\"\n",
    "    Evaluates the model on the provided DataLoader, calculates accuracy using torchmetrics,\n",
    "    and saves predictions to a CSV file.\n",
    "    \n",
    "    Args:\n",
    "    - model: The trained model.\n",
    "    - loader: DataLoader for the dataset (test).\n",
    "\n",
    "    - device: Device (CPU or GPU) for evaluation.\n",
    "    - csv_file: Path to the CSV file to save predictions.\n",
    "    \n",
    "    Returns:\n",
    "    - Accuracy as a percentage.\n",
    "    \"\"\"\n",
    "    \n",
    "    model.eval()  # Set the model to evaluation mode\n",
    "    \n",
    "    predictions = []\n",
    "\n",
    "    with torch.no_grad():\n",
    "        for features, _ in loader:\n",
    "            features = features.to(device)\n",
    "\n",
    "            # Forward pass\n",
    "            outputs = model(features)\n",
    "\n",
    "            # Get predicted labels\n",
    "            _, predicted_labels = torch.max(outputs, 1)\n",
    "            predictions.extend(predicted_labels.cpu().numpy())\n",
    "\n",
    "    # Save predictions to CSV\n",
    "    df = pd.read_csv(csv_file)\n",
    "    df['Label'] = predictions\n",
    "    df.to_csv(csv_file, index=False)\n",
    "\n",
    "    # Return accuracy as a percentage\n",
    "    return predictions"
   ]
  },
  {
   "cell_type": "code",
   "execution_count": 33,
   "metadata": {},
   "outputs": [],
   "source": [
    "# DO NOT CHANGE!\n",
    "\n",
    "predictions = evaluate_model_and_save_predictions(mlp_model, test_loader, device, f\"{First_name}_{Surname}_{str(Student_ID)}.csv\")"
   ]
  },
  {
   "cell_type": "markdown",
   "metadata": {},
   "source": [
    "<div class=\"alert alert-block alert-danger\">\n",
    "    \n",
    "## Final remarks\n",
    "\n",
    "Well done on making it all the way to the end. We hope you have enjoyed applying deep learning concepts to further your understanding and to new applications ! All the best :)"
   ]
  }
 ],
 "metadata": {
  "kernelspec": {
   "display_name": "ECE4179",
   "language": "python",
   "name": "python3"
  },
  "language_info": {
   "codemirror_mode": {
    "name": "ipython",
    "version": 3
   },
   "file_extension": ".py",
   "mimetype": "text/x-python",
   "name": "python",
   "nbconvert_exporter": "python",
   "pygments_lexer": "ipython3",
   "version": "3.10.14"
  }
 },
 "nbformat": 4,
 "nbformat_minor": 4
}
